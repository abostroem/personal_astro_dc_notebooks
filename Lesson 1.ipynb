{
 "cells": [
  {
   "cell_type": "code",
   "execution_count": 1,
   "metadata": {},
   "outputs": [
    {
     "name": "stdout",
     "output_type": "stream",
     "text": [
      "Created TAP+ (v1.2.1) - Connection:\n",
      "\tHost: gea.esac.esa.int\n",
      "\tUse HTTPS: True\n",
      "\tPort: 443\n",
      "\tSSL Port: 443\n",
      "Created TAP+ (v1.2.1) - Connection:\n",
      "\tHost: geadata.esac.esa.int\n",
      "\tUse HTTPS: True\n",
      "\tPort: 443\n",
      "\tSSL Port: 443\n"
     ]
    }
   ],
   "source": [
    "from astroquery.gaia import Gaia"
   ]
  },
  {
   "cell_type": "code",
   "execution_count": 2,
   "metadata": {},
   "outputs": [
    {
     "name": "stdout",
     "output_type": "stream",
     "text": [
      "INFO: Retrieving tables... [astroquery.utils.tap.core]\n",
      "INFO: Parsing tables... [astroquery.utils.tap.core]\n",
      "INFO: Done. [astroquery.utils.tap.core]\n"
     ]
    }
   ],
   "source": [
    "tables = Gaia.load_tables(only_names=True)"
   ]
  },
  {
   "cell_type": "code",
   "execution_count": 4,
   "metadata": {},
   "outputs": [
    {
     "name": "stdout",
     "output_type": "stream",
     "text": [
      "external.apassdr9\n",
      "external.gaiadr2_geometric_distance\n",
      "external.galex_ais\n",
      "external.ravedr5_com\n",
      "external.ravedr5_dr5\n",
      "external.ravedr5_gra\n",
      "external.ravedr5_on\n",
      "external.sdssdr13_photoprimary\n",
      "external.skymapperdr1_master\n",
      "external.tmass_xsc\n",
      "public.hipparcos\n",
      "public.hipparcos_newreduction\n",
      "public.hubble_sc\n",
      "public.igsl_source\n",
      "public.igsl_source_catalog_ids\n",
      "public.tycho2\n",
      "public.dual\n",
      "tap_config.coord_sys\n",
      "tap_config.properties\n",
      "tap_schema.columns\n",
      "tap_schema.key_columns\n",
      "tap_schema.keys\n",
      "tap_schema.schemas\n",
      "tap_schema.tables\n",
      "gaiadr1.aux_qso_icrf2_match\n",
      "gaiadr1.ext_phot_zero_point\n",
      "gaiadr1.allwise_best_neighbour\n",
      "gaiadr1.allwise_neighbourhood\n",
      "gaiadr1.gsc23_best_neighbour\n",
      "gaiadr1.gsc23_neighbourhood\n",
      "gaiadr1.ppmxl_best_neighbour\n",
      "gaiadr1.ppmxl_neighbourhood\n",
      "gaiadr1.sdss_dr9_best_neighbour\n",
      "gaiadr1.sdss_dr9_neighbourhood\n",
      "gaiadr1.tmass_best_neighbour\n",
      "gaiadr1.tmass_neighbourhood\n",
      "gaiadr1.ucac4_best_neighbour\n",
      "gaiadr1.ucac4_neighbourhood\n",
      "gaiadr1.urat1_best_neighbour\n",
      "gaiadr1.urat1_neighbourhood\n",
      "gaiadr1.cepheid\n",
      "gaiadr1.phot_variable_time_series_gfov\n",
      "gaiadr1.phot_variable_time_series_gfov_statistical_parameters\n",
      "gaiadr1.rrlyrae\n",
      "gaiadr1.variable_summary\n",
      "gaiadr1.allwise_original_valid\n",
      "gaiadr1.gsc23_original_valid\n",
      "gaiadr1.ppmxl_original_valid\n",
      "gaiadr1.sdssdr9_original_valid\n",
      "gaiadr1.tmass_original_valid\n",
      "gaiadr1.ucac4_original_valid\n",
      "gaiadr1.urat1_original_valid\n",
      "gaiadr1.gaia_source\n",
      "gaiadr1.tgas_source\n",
      "gaiadr2.aux_allwise_agn_gdr2_cross_id\n",
      "gaiadr2.aux_iers_gdr2_cross_id\n",
      "gaiadr2.aux_sso_orbit_residuals\n",
      "gaiadr2.aux_sso_orbits\n",
      "gaiadr2.dr1_neighbourhood\n",
      "gaiadr2.allwise_best_neighbour\n",
      "gaiadr2.allwise_neighbourhood\n",
      "gaiadr2.apassdr9_best_neighbour\n",
      "gaiadr2.apassdr9_neighbourhood\n",
      "gaiadr2.gsc23_best_neighbour\n",
      "gaiadr2.gsc23_neighbourhood\n",
      "gaiadr2.hipparcos2_best_neighbour\n",
      "gaiadr2.hipparcos2_neighbourhood\n",
      "gaiadr2.panstarrs1_best_neighbour\n",
      "gaiadr2.panstarrs1_neighbourhood\n",
      "gaiadr2.ppmxl_best_neighbour\n",
      "gaiadr2.ppmxl_neighbourhood\n",
      "gaiadr2.ravedr5_best_neighbour\n",
      "gaiadr2.ravedr5_neighbourhood\n",
      "gaiadr2.sdssdr9_best_neighbour\n",
      "gaiadr2.sdssdr9_neighbourhood\n",
      "gaiadr2.tmass_best_neighbour\n",
      "gaiadr2.tmass_neighbourhood\n",
      "gaiadr2.tycho2_best_neighbour\n",
      "gaiadr2.tycho2_neighbourhood\n",
      "gaiadr2.urat1_best_neighbour\n",
      "gaiadr2.urat1_neighbourhood\n",
      "gaiadr2.sso_observation\n",
      "gaiadr2.sso_source\n",
      "gaiadr2.vari_cepheid\n",
      "gaiadr2.vari_classifier_class_definition\n",
      "gaiadr2.vari_classifier_definition\n",
      "gaiadr2.vari_classifier_result\n",
      "gaiadr2.vari_long_period_variable\n",
      "gaiadr2.vari_rotation_modulation\n",
      "gaiadr2.vari_rrlyrae\n",
      "gaiadr2.vari_short_timescale\n",
      "gaiadr2.vari_time_series_statistics\n",
      "gaiadr2.panstarrs1_original_valid\n",
      "gaiadr2.gaia_source\n",
      "gaiadr2.ruwe\n"
     ]
    }
   ],
   "source": [
    "for tb in tables:\n",
    "    print(tb.name)"
   ]
  },
  {
   "cell_type": "code",
   "execution_count": 6,
   "metadata": {},
   "outputs": [
    {
     "name": "stdout",
     "output_type": "stream",
     "text": [
      "Retrieving table 'gaiadr2.gaia_source'\n",
      "Parsing table 'gaiadr2.gaia_source'...\n",
      "Done.\n"
     ]
    },
    {
     "data": {
      "text/plain": [
       "<astroquery.utils.tap.model.taptable.TapTableMeta at 0x7fa197172cd0>"
      ]
     },
     "execution_count": 6,
     "metadata": {},
     "output_type": "execute_result"
    }
   ],
   "source": [
    "meta = Gaia.load_table('gaiadr2.gaia_source')\n",
    "meta"
   ]
  },
  {
   "cell_type": "code",
   "execution_count": 7,
   "metadata": {},
   "outputs": [
    {
     "name": "stdout",
     "output_type": "stream",
     "text": [
      "TAP Table name: gaiadr2.gaiadr2.gaia_source\n",
      "Description: This table has an entry for every Gaia observed source as listed in the\n",
      "Main Database accumulating catalogue version from which the catalogue\n",
      "release has been generated. It contains the basic source parameters,\n",
      "that is only final data (no epoch data) and no spectra (neither final\n",
      "nor epoch).\n",
      "Num. columns: 96\n"
     ]
    }
   ],
   "source": [
    "print(meta)"
   ]
  },
  {
   "cell_type": "code",
   "execution_count": 9,
   "metadata": {},
   "outputs": [
    {
     "name": "stdout",
     "output_type": "stream",
     "text": [
      "Retrieving table 'gaiadr2.gaia_source'\n",
      "Parsing table 'gaiadr2.gaia_source'...\n",
      "Done.\n"
     ]
    }
   ],
   "source": [
    "meta = Gaia.load_table('gaiadr2.gaia_source')"
   ]
  },
  {
   "cell_type": "code",
   "execution_count": 10,
   "metadata": {},
   "outputs": [
    {
     "name": "stdout",
     "output_type": "stream",
     "text": [
      "solution_id\n",
      "designation\n",
      "source_id\n",
      "random_index\n",
      "ref_epoch\n",
      "ra\n",
      "ra_error\n",
      "dec\n",
      "dec_error\n",
      "parallax\n",
      "parallax_error\n",
      "parallax_over_error\n",
      "pmra\n",
      "pmra_error\n",
      "pmdec\n",
      "pmdec_error\n",
      "ra_dec_corr\n",
      "ra_parallax_corr\n",
      "ra_pmra_corr\n",
      "ra_pmdec_corr\n",
      "dec_parallax_corr\n",
      "dec_pmra_corr\n",
      "dec_pmdec_corr\n",
      "parallax_pmra_corr\n",
      "parallax_pmdec_corr\n",
      "pmra_pmdec_corr\n",
      "astrometric_n_obs_al\n",
      "astrometric_n_obs_ac\n",
      "astrometric_n_good_obs_al\n",
      "astrometric_n_bad_obs_al\n",
      "astrometric_gof_al\n",
      "astrometric_chi2_al\n",
      "astrometric_excess_noise\n",
      "astrometric_excess_noise_sig\n",
      "astrometric_params_solved\n",
      "astrometric_primary_flag\n",
      "astrometric_weight_al\n",
      "astrometric_pseudo_colour\n",
      "astrometric_pseudo_colour_error\n",
      "mean_varpi_factor_al\n",
      "astrometric_matched_observations\n",
      "visibility_periods_used\n",
      "astrometric_sigma5d_max\n",
      "frame_rotator_object_type\n",
      "matched_observations\n",
      "duplicated_source\n",
      "phot_g_n_obs\n",
      "phot_g_mean_flux\n",
      "phot_g_mean_flux_error\n",
      "phot_g_mean_flux_over_error\n",
      "phot_g_mean_mag\n",
      "phot_bp_n_obs\n",
      "phot_bp_mean_flux\n",
      "phot_bp_mean_flux_error\n",
      "phot_bp_mean_flux_over_error\n",
      "phot_bp_mean_mag\n",
      "phot_rp_n_obs\n",
      "phot_rp_mean_flux\n",
      "phot_rp_mean_flux_error\n",
      "phot_rp_mean_flux_over_error\n",
      "phot_rp_mean_mag\n",
      "phot_bp_rp_excess_factor\n",
      "phot_proc_mode\n",
      "bp_rp\n",
      "bp_g\n",
      "g_rp\n",
      "radial_velocity\n",
      "radial_velocity_error\n",
      "rv_nb_transits\n",
      "rv_template_teff\n",
      "rv_template_logg\n",
      "rv_template_fe_h\n",
      "phot_variable_flag\n",
      "l\n",
      "b\n",
      "ecl_lon\n",
      "ecl_lat\n",
      "priam_flags\n",
      "teff_val\n",
      "teff_percentile_lower\n",
      "teff_percentile_upper\n",
      "a_g_val\n",
      "a_g_percentile_lower\n",
      "a_g_percentile_upper\n",
      "e_bp_min_rp_val\n",
      "e_bp_min_rp_percentile_lower\n",
      "e_bp_min_rp_percentile_upper\n",
      "flame_flags\n",
      "radius_val\n",
      "radius_percentile_lower\n",
      "radius_percentile_upper\n",
      "lum_val\n",
      "lum_percentile_lower\n",
      "lum_percentile_upper\n",
      "datalink_url\n",
      "epoch_photometry_url\n"
     ]
    }
   ],
   "source": [
    "for column in meta.columns:\n",
    "    print(column.name)"
   ]
  },
  {
   "cell_type": "code",
   "execution_count": 11,
   "metadata": {},
   "outputs": [],
   "source": [
    "query1 = \"\"\"SELECT \n",
    "TOP 10\n",
    "source_id, ref_epoch, ra, dec, parallax\n",
    "FROM gaiadr2.gaia_source\"\"\""
   ]
  },
  {
   "cell_type": "code",
   "execution_count": 12,
   "metadata": {},
   "outputs": [
    {
     "data": {
      "text/plain": [
       "<astroquery.utils.tap.model.job.Job at 0x7fa194f75790>"
      ]
     },
     "execution_count": 12,
     "metadata": {},
     "output_type": "execute_result"
    }
   ],
   "source": [
    "job1 = Gaia.launch_job(query1)\n",
    "job1"
   ]
  },
  {
   "cell_type": "code",
   "execution_count": 13,
   "metadata": {},
   "outputs": [
    {
     "name": "stdout",
     "output_type": "stream",
     "text": [
      "<Table length=10>\n",
      "   name    dtype  unit                            description                            \n",
      "--------- ------- ---- ------------------------------------------------------------------\n",
      "source_id   int64      Unique source identifier (unique within a particular Data Release)\n",
      "ref_epoch float64   yr                                                    Reference epoch\n",
      "       ra float64  deg                                                    Right ascension\n",
      "      dec float64  deg                                                        Declination\n",
      " parallax float64  mas                                                           Parallax\n",
      "Jobid: None\n",
      "Phase: COMPLETED\n",
      "Owner: None\n",
      "Output file: sync_20201116173708.xml.gz\n",
      "Results: None\n"
     ]
    }
   ],
   "source": [
    "print(job1)"
   ]
  },
  {
   "cell_type": "code",
   "execution_count": 14,
   "metadata": {},
   "outputs": [
    {
     "data": {
      "text/plain": [
       "astropy.table.table.Table"
      ]
     },
     "execution_count": 14,
     "metadata": {},
     "output_type": "execute_result"
    }
   ],
   "source": [
    "results1 = job1.get_results()\n",
    "type(results1)"
   ]
  },
  {
   "cell_type": "code",
   "execution_count": 15,
   "metadata": {},
   "outputs": [
    {
     "data": {
      "text/html": [
       "<i>Table length=10</i>\n",
       "<table id=\"table140331965699216\" class=\"table-striped table-bordered table-condensed\">\n",
       "<thead><tr><th>source_id</th><th>ref_epoch</th><th>ra</th><th>dec</th><th>parallax</th></tr></thead>\n",
       "<thead><tr><th></th><th>yr</th><th>deg</th><th>deg</th><th>mas</th></tr></thead>\n",
       "<thead><tr><th>int64</th><th>float64</th><th>float64</th><th>float64</th><th>float64</th></tr></thead>\n",
       "<tr><td>1859792719742574464</td><td>2015.5</td><td>311.33485361508906</td><td>31.506786144082533</td><td>-0.043459646873539204</td></tr>\n",
       "<tr><td>1859766675065210240</td><td>2015.5</td><td>311.64397787486655</td><td>31.536704519172417</td><td>-0.13537426430556157</td></tr>\n",
       "<tr><td>1859804608212191872</td><td>2015.5</td><td>311.20988248513515</td><td>31.533794117119474</td><td>-0.040176198947359874</td></tr>\n",
       "<tr><td>1859766159664830720</td><td>2015.5</td><td>311.62145069440095</td><td>31.509723706070716</td><td>0.37568569966658266</td></tr>\n",
       "<tr><td>1859756332783747840</td><td>2015.5</td><td>312.06773763570203</td><td>31.449591788722408</td><td>0.3081771076738855</td></tr>\n",
       "<tr><td>1859811140871021568</td><td>2015.5</td><td>311.48859967057916</td><td>31.442738480215677</td><td>0.10213251858852894</td></tr>\n",
       "<tr><td>1859757329216282752</td><td>2015.5</td><td>311.9492674898904</td><td>31.497467766287258</td><td>0.3208905265656106</td></tr>\n",
       "<tr><td>1859777537046631296</td><td>2015.5</td><td>311.1088551757352</td><td>31.168732865999374</td><td>1.1336668957763387</td></tr>\n",
       "<tr><td>1859800347613637888</td><td>2015.5</td><td>310.99035243884856</td><td>31.45024452084</td><td>-0.4280252553655412</td></tr>\n",
       "<tr><td>1859788394723513216</td><td>2015.5</td><td>311.4105683948328</td><td>31.430365472220533</td><td>-2.011036157743551</td></tr>\n",
       "</table>"
      ],
      "text/plain": [
       "<Table length=10>\n",
       "     source_id      ref_epoch ...        dec                parallax      \n",
       "                        yr    ...        deg                  mas         \n",
       "       int64         float64  ...      float64              float64       \n",
       "------------------- --------- ... ------------------ ---------------------\n",
       "1859792719742574464    2015.5 ... 31.506786144082533 -0.043459646873539204\n",
       "1859766675065210240    2015.5 ... 31.536704519172417  -0.13537426430556157\n",
       "1859804608212191872    2015.5 ... 31.533794117119474 -0.040176198947359874\n",
       "1859766159664830720    2015.5 ... 31.509723706070716   0.37568569966658266\n",
       "1859756332783747840    2015.5 ... 31.449591788722408    0.3081771076738855\n",
       "1859811140871021568    2015.5 ... 31.442738480215677   0.10213251858852894\n",
       "1859757329216282752    2015.5 ... 31.497467766287258    0.3208905265656106\n",
       "1859777537046631296    2015.5 ... 31.168732865999374    1.1336668957763387\n",
       "1859800347613637888    2015.5 ...     31.45024452084   -0.4280252553655412\n",
       "1859788394723513216    2015.5 ... 31.430365472220533    -2.011036157743551"
      ]
     },
     "execution_count": 15,
     "metadata": {},
     "output_type": "execute_result"
    }
   ],
   "source": [
    "results1"
   ]
  },
  {
   "cell_type": "code",
   "execution_count": 19,
   "metadata": {},
   "outputs": [],
   "source": [
    "query2 = \"\"\"SELECT \n",
    "TOP 3000\n",
    "source_id, ref_epoch, ra, dec, parallax\n",
    "FROM gaiadr2.gaia_source\n",
    "WHERE parallax < 1\"\"\""
   ]
  },
  {
   "cell_type": "code",
   "execution_count": 20,
   "metadata": {},
   "outputs": [
    {
     "name": "stdout",
     "output_type": "stream",
     "text": [
      "INFO: Query finished. [astroquery.utils.tap.core]\n"
     ]
    }
   ],
   "source": [
    "job2 = Gaia.launch_job_async(query2)"
   ]
  },
  {
   "cell_type": "code",
   "execution_count": 21,
   "metadata": {},
   "outputs": [
    {
     "name": "stdout",
     "output_type": "stream",
     "text": [
      "<Table length=3000>\n",
      "   name    dtype  unit                            description                            \n",
      "--------- ------- ---- ------------------------------------------------------------------\n",
      "source_id   int64      Unique source identifier (unique within a particular Data Release)\n",
      "ref_epoch float64   yr                                                    Reference epoch\n",
      "       ra float64  deg                                                    Right ascension\n",
      "      dec float64  deg                                                        Declination\n",
      " parallax float64  mas                                                           Parallax\n",
      "Jobid: 1605577230583O\n",
      "Phase: COMPLETED\n",
      "Owner: None\n",
      "Output file: async_20201116174030.vot\n",
      "Results: None\n"
     ]
    }
   ],
   "source": [
    "print(job2)"
   ]
  },
  {
   "cell_type": "code",
   "execution_count": 23,
   "metadata": {},
   "outputs": [
    {
     "data": {
      "text/html": [
       "<i>Table length=3000</i>\n",
       "<table id=\"table140332029160224\" class=\"table-striped table-bordered table-condensed\">\n",
       "<thead><tr><th>source_id</th><th>ref_epoch</th><th>ra</th><th>dec</th><th>parallax</th></tr></thead>\n",
       "<thead><tr><th></th><th>yr</th><th>deg</th><th>deg</th><th>mas</th></tr></thead>\n",
       "<thead><tr><th>int64</th><th>float64</th><th>float64</th><th>float64</th><th>float64</th></tr></thead>\n",
       "<tr><td>540868530121672832</td><td>2015.5</td><td>45.064929788783736</td><td>68.28437792937918</td><td>0.772634596444995</td></tr>\n",
       "<tr><td>540829119501511296</td><td>2015.5</td><td>43.80129682115258</td><td>68.2198991960256</td><td>0.7797055487771287</td></tr>\n",
       "<tr><td>540906944309563520</td><td>2015.5</td><td>45.36563685986509</td><td>68.50639899005085</td><td>0.19728506636788146</td></tr>\n",
       "<tr><td>540906531991684864</td><td>2015.5</td><td>46.21830247493324</td><td>68.80122880665068</td><td>0.39059621123173943</td></tr>\n",
       "<tr><td>540974018815024768</td><td>2015.5</td><td>45.10081296360258</td><td>69.01828307271255</td><td>0.17343233455519894</td></tr>\n",
       "<tr><td>540853377476184832</td><td>2015.5</td><td>43.336028900797395</td><td>68.58498521080803</td><td>0.7625635969524031</td></tr>\n",
       "<tr><td>540902035163461504</td><td>2015.5</td><td>46.384089995129386</td><td>68.71252572084995</td><td>0.8201185301682652</td></tr>\n",
       "<tr><td>540907876317266688</td><td>2015.5</td><td>45.42334683641564</td><td>68.59806655835423</td><td>0.5215800474952066</td></tr>\n",
       "<tr><td>540889558281640320</td><td>2015.5</td><td>45.781158006956474</td><td>68.34765459887203</td><td>-0.17003242813431657</td></tr>\n",
       "<tr><td>...</td><td>...</td><td>...</td><td>...</td><td>...</td></tr>\n",
       "<tr><td>540948107275333248</td><td>2015.5</td><td>43.53777257273696</td><td>68.69997924623266</td><td>0.1692680832133705</td></tr>\n",
       "<tr><td>540912201349710080</td><td>2015.5</td><td>45.268539096779904</td><td>68.68523935060753</td><td>-0.21088171817325874</td></tr>\n",
       "<tr><td>540830665690100736</td><td>2015.5</td><td>44.19575682157449</td><td>68.30061580128628</td><td>0.1116835047833456</td></tr>\n",
       "<tr><td>540884266882222464</td><td>2015.5</td><td>45.10714375389002</td><td>68.50207821540353</td><td>0.6923204318452096</td></tr>\n",
       "<tr><td>5346756580080074368</td><td>2015.5</td><td>169.11473955688558</td><td>-53.67544464907031</td><td>0.09495074320864955</td></tr>\n",
       "<tr><td>5346737995769900672</td><td>2015.5</td><td>169.39694085800645</td><td>-53.89998724654153</td><td>0.13261747836261809</td></tr>\n",
       "<tr><td>5346750811954170496</td><td>2015.5</td><td>169.24572287022878</td><td>-53.836645196796056</td><td>0.18542165912985642</td></tr>\n",
       "<tr><td>5346759333155454720</td><td>2015.5</td><td>170.4634928342566</td><td>-54.24427997708223</td><td>-0.033555404166218834</td></tr>\n",
       "<tr><td>5346743695176676608</td><td>2015.5</td><td>169.16167687813444</td><td>-53.97663819581776</td><td>0.38841805344666447</td></tr>\n",
       "<tr><td>5346729852514543360</td><td>2015.5</td><td>169.43147564360766</td><td>-54.064761149367904</td><td>0.9783795381954481</td></tr>\n",
       "</table>"
      ],
      "text/plain": [
       "<Table length=3000>\n",
       "     source_id      ref_epoch ...         dec                parallax      \n",
       "                        yr    ...         deg                  mas         \n",
       "       int64         float64  ...       float64              float64       \n",
       "------------------- --------- ... ------------------- ---------------------\n",
       " 540868530121672832    2015.5 ...   68.28437792937918     0.772634596444995\n",
       " 540829119501511296    2015.5 ...    68.2198991960256    0.7797055487771287\n",
       " 540906944309563520    2015.5 ...   68.50639899005085   0.19728506636788146\n",
       " 540906531991684864    2015.5 ...   68.80122880665068   0.39059621123173943\n",
       " 540974018815024768    2015.5 ...   69.01828307271255   0.17343233455519894\n",
       " 540853377476184832    2015.5 ...   68.58498521080803    0.7625635969524031\n",
       " 540902035163461504    2015.5 ...   68.71252572084995    0.8201185301682652\n",
       " 540907876317266688    2015.5 ...   68.59806655835423    0.5215800474952066\n",
       " 540889558281640320    2015.5 ...   68.34765459887203  -0.17003242813431657\n",
       "                ...       ... ...                 ...                   ...\n",
       " 540948107275333248    2015.5 ...   68.69997924623266    0.1692680832133705\n",
       " 540912201349710080    2015.5 ...   68.68523935060753  -0.21088171817325874\n",
       " 540830665690100736    2015.5 ...   68.30061580128628    0.1116835047833456\n",
       " 540884266882222464    2015.5 ...   68.50207821540353    0.6923204318452096\n",
       "5346756580080074368    2015.5 ...  -53.67544464907031   0.09495074320864955\n",
       "5346737995769900672    2015.5 ...  -53.89998724654153   0.13261747836261809\n",
       "5346750811954170496    2015.5 ... -53.836645196796056   0.18542165912985642\n",
       "5346759333155454720    2015.5 ...  -54.24427997708223 -0.033555404166218834\n",
       "5346743695176676608    2015.5 ...  -53.97663819581776   0.38841805344666447\n",
       "5346729852514543360    2015.5 ... -54.064761149367904    0.9783795381954481"
      ]
     },
     "execution_count": 23,
     "metadata": {},
     "output_type": "execute_result"
    }
   ],
   "source": [
    "results2 = job2.get_results()\n",
    "results2"
   ]
  },
  {
   "cell_type": "code",
   "execution_count": 24,
   "metadata": {},
   "outputs": [],
   "source": [
    "query3 = \"\"\"SELECT \n",
    "TOP 3000\n",
    "source_id, ref_epoch, ra, dec, parallax\n",
    "FROM gaiadr2.gaia_source\n",
    "WHERE parallax < 1\n",
    "AND bp_rp > -0.75 AND bp_rp < 2\"\"\""
   ]
  },
  {
   "cell_type": "code",
   "execution_count": 26,
   "metadata": {},
   "outputs": [
    {
     "data": {
      "text/html": [
       "<i>Table length=3000</i>\n",
       "<table id=\"table140332029122352\" class=\"table-striped table-bordered table-condensed\">\n",
       "<thead><tr><th>source_id</th><th>ref_epoch</th><th>ra</th><th>dec</th><th>parallax</th></tr></thead>\n",
       "<thead><tr><th></th><th>yr</th><th>deg</th><th>deg</th><th>mas</th></tr></thead>\n",
       "<thead><tr><th>int64</th><th>float64</th><th>float64</th><th>float64</th><th>float64</th></tr></thead>\n",
       "<tr><td>5346726996348260736</td><td>2015.5</td><td>169.5778996996994</td><td>-54.09995259888134</td><td>0.2634154612914322</td></tr>\n",
       "<tr><td>5346745928559684864</td><td>2015.5</td><td>168.92884623640404</td><td>-53.96815419384719</td><td>-0.07898898258488114</td></tr>\n",
       "<tr><td>5346749197044389888</td><td>2015.5</td><td>169.29752037913545</td><td>-53.931699951626506</td><td>0.5075399597062448</td></tr>\n",
       "<tr><td>5346730814584076160</td><td>2015.5</td><td>169.30855584986614</td><td>-54.03640795946512</td><td>0.592544331856119</td></tr>\n",
       "<tr><td>5346746929303450112</td><td>2015.5</td><td>169.0835819569693</td><td>-53.94004939570491</td><td>-0.5324261741152893</td></tr>\n",
       "<tr><td>5346765105588608640</td><td>2015.5</td><td>170.44167297691084</td><td>-54.07224842303931</td><td>0.6211416044875671</td></tr>\n",
       "<tr><td>5346741427443122048</td><td>2015.5</td><td>169.17074554645396</td><td>-54.0947243540854</td><td>0.12685418523958186</td></tr>\n",
       "<tr><td>5346726691418727296</td><td>2015.5</td><td>169.58112090588287</td><td>-54.103516707419814</td><td>0.10955046164913727</td></tr>\n",
       "<tr><td>5346731158183976064</td><td>2015.5</td><td>169.4164847777906</td><td>-54.001174933156676</td><td>-1.3506701030470545</td></tr>\n",
       "<tr><td>...</td><td>...</td><td>...</td><td>...</td><td>...</td></tr>\n",
       "<tr><td>5346738957843759616</td><td>2015.5</td><td>169.51544674189904</td><td>-53.87887944247489</td><td>-0.04713254382616576</td></tr>\n",
       "<tr><td>5346725862476862720</td><td>2015.5</td><td>169.64816794548528</td><td>-54.13684280942513</td><td>0.034176147168731824</td></tr>\n",
       "<tr><td>5346745692350758272</td><td>2015.5</td><td>169.0286587920599</td><td>-53.94588849172917</td><td>0.46119107415855803</td></tr>\n",
       "<tr><td>5346730024311392000</td><td>2015.5</td><td>169.51299860520336</td><td>-54.06690018893666</td><td>0.1933589852130196</td></tr>\n",
       "<tr><td>5346767991807873408</td><td>2015.5</td><td>170.56188203472803</td><td>-54.052211927700604</td><td>0.2506726285427757</td></tr>\n",
       "<tr><td>5346765792783248640</td><td>2015.5</td><td>170.34557179304306</td><td>-54.061311239586296</td><td>0.7755187732489702</td></tr>\n",
       "<tr><td>5346750086089003136</td><td>2015.5</td><td>169.27824569391282</td><td>-53.83837376389647</td><td>-0.055075990066978685</td></tr>\n",
       "<tr><td>5346758096204961664</td><td>2015.5</td><td>170.6204392049649</td><td>-54.296081055722276</td><td>0.30945142230346706</td></tr>\n",
       "<tr><td>5346731536142284416</td><td>2015.5</td><td>169.72092305152188</td><td>-54.13883383696503</td><td>-1.0061759323601862</td></tr>\n",
       "<tr><td>5346751567868534528</td><td>2015.5</td><td>169.33078977131922</td><td>-53.7949147041745</td><td>0.4006601019493005</td></tr>\n",
       "</table>"
      ],
      "text/plain": [
       "<Table length=3000>\n",
       "     source_id      ref_epoch ...         dec                parallax      \n",
       "                        yr    ...         deg                  mas         \n",
       "       int64         float64  ...       float64              float64       \n",
       "------------------- --------- ... ------------------- ---------------------\n",
       "5346726996348260736    2015.5 ...  -54.09995259888134    0.2634154612914322\n",
       "5346745928559684864    2015.5 ...  -53.96815419384719  -0.07898898258488114\n",
       "5346749197044389888    2015.5 ... -53.931699951626506    0.5075399597062448\n",
       "5346730814584076160    2015.5 ...  -54.03640795946512     0.592544331856119\n",
       "5346746929303450112    2015.5 ...  -53.94004939570491   -0.5324261741152893\n",
       "5346765105588608640    2015.5 ...  -54.07224842303931    0.6211416044875671\n",
       "5346741427443122048    2015.5 ...   -54.0947243540854   0.12685418523958186\n",
       "5346726691418727296    2015.5 ... -54.103516707419814   0.10955046164913727\n",
       "5346731158183976064    2015.5 ... -54.001174933156676   -1.3506701030470545\n",
       "                ...       ... ...                 ...                   ...\n",
       "5346738957843759616    2015.5 ...  -53.87887944247489  -0.04713254382616576\n",
       "5346725862476862720    2015.5 ...  -54.13684280942513  0.034176147168731824\n",
       "5346745692350758272    2015.5 ...  -53.94588849172917   0.46119107415855803\n",
       "5346730024311392000    2015.5 ...  -54.06690018893666    0.1933589852130196\n",
       "5346767991807873408    2015.5 ... -54.052211927700604    0.2506726285427757\n",
       "5346765792783248640    2015.5 ... -54.061311239586296    0.7755187732489702\n",
       "5346750086089003136    2015.5 ...  -53.83837376389647 -0.055075990066978685\n",
       "5346758096204961664    2015.5 ... -54.296081055722276   0.30945142230346706\n",
       "5346731536142284416    2015.5 ...  -54.13883383696503   -1.0061759323601862\n",
       "5346751567868534528    2015.5 ...   -53.7949147041745    0.4006601019493005"
      ]
     },
     "execution_count": 26,
     "metadata": {},
     "output_type": "execute_result"
    }
   ],
   "source": [
    "job3 = Gaia.launch_job(query3)\n",
    "results3 = job3.get_results()\n",
    "results3"
   ]
  },
  {
   "cell_type": "code",
   "execution_count": 27,
   "metadata": {},
   "outputs": [],
   "source": [
    "columns = 'source_id, ra, dec, pmra, pmdec, parallax, parallax_error, radial_velocity'"
   ]
  },
  {
   "cell_type": "code",
   "execution_count": 28,
   "metadata": {},
   "outputs": [],
   "source": [
    "query3_base = \"\"\"SELECT TOP 10\n",
    "{columns}\n",
    "FROM gaiadr2.gaia_source\n",
    "WHERE parallax < 1\n",
    "  AND bp_rp >-0.75 AND bp_rp < 2\"\"\""
   ]
  },
  {
   "cell_type": "code",
   "execution_count": 29,
   "metadata": {},
   "outputs": [],
   "source": [
    "query3 = query3_base.format(columns=columns)"
   ]
  },
  {
   "cell_type": "code",
   "execution_count": 30,
   "metadata": {},
   "outputs": [
    {
     "name": "stdout",
     "output_type": "stream",
     "text": [
      "SELECT TOP 10\n",
      "source_id, ra, dec, pmra, pmdec, parallax, parallax_error, radial_velocity\n",
      "FROM gaiadr2.gaia_source\n",
      "WHERE parallax < 1\n",
      "  AND bp_rp >-0.75 AND bp_rp < 2\n"
     ]
    }
   ],
   "source": [
    "print(query3)"
   ]
  },
  {
   "cell_type": "code",
   "execution_count": 31,
   "metadata": {},
   "outputs": [],
   "source": [
    "job3 = Gaia.launch_job(query3)"
   ]
  },
  {
   "cell_type": "code",
   "execution_count": 32,
   "metadata": {},
   "outputs": [
    {
     "name": "stdout",
     "output_type": "stream",
     "text": [
      "<Table length=10>\n",
      "      name       dtype    unit                              description                             n_bad\n",
      "--------------- ------- -------- ------------------------------------------------------------------ -----\n",
      "      source_id   int64          Unique source identifier (unique within a particular Data Release)     0\n",
      "             ra float64      deg                                                    Right ascension     0\n",
      "            dec float64      deg                                                        Declination     0\n",
      "           pmra float64 mas / yr                         Proper motion in right ascension direction     0\n",
      "          pmdec float64 mas / yr                             Proper motion in declination direction     0\n",
      "       parallax float64      mas                                                           Parallax     0\n",
      " parallax_error float64      mas                                         Standard error of parallax     0\n",
      "radial_velocity float64   km / s                                                    Radial velocity    10\n",
      "Jobid: None\n",
      "Phase: COMPLETED\n",
      "Owner: None\n",
      "Output file: sync_20201116175635.xml.gz\n",
      "Results: None\n"
     ]
    }
   ],
   "source": [
    "print(job3)"
   ]
  },
  {
   "cell_type": "code",
   "execution_count": 34,
   "metadata": {},
   "outputs": [
    {
     "data": {
      "text/html": [
       "<i>Table length=10</i>\n",
       "<table id=\"table140332029079168\" class=\"table-striped table-bordered table-condensed\">\n",
       "<thead><tr><th>source_id</th><th>ra</th><th>dec</th><th>pmra</th><th>pmdec</th><th>parallax</th><th>parallax_error</th><th>radial_velocity</th></tr></thead>\n",
       "<thead><tr><th></th><th>deg</th><th>deg</th><th>mas / yr</th><th>mas / yr</th><th>mas</th><th>mas</th><th>km / s</th></tr></thead>\n",
       "<thead><tr><th>int64</th><th>float64</th><th>float64</th><th>float64</th><th>float64</th><th>float64</th><th>float64</th><th>float64</th></tr></thead>\n",
       "<tr><td>5346745791121614208</td><td>169.00972137492994</td><td>-53.918731392774845</td><td>-4.489447428150869</td><td>1.2867546768481266</td><td>-0.022410437205231566</td><td>0.1835216022033725</td><td>--</td></tr>\n",
       "<tr><td>5346747822656582784</td><td>169.015312664555</td><td>-53.85700944804332</td><td>-3.265900401907304</td><td>0.8811199597402446</td><td>-0.9342267392789951</td><td>0.8499676236206128</td><td>--</td></tr>\n",
       "<tr><td>5346745688041546112</td><td>169.02324555442306</td><td>-53.935766419805546</td><td>-5.907556308696055</td><td>-0.6728927823376614</td><td>0.15327662847486828</td><td>0.21086466595261558</td><td>--</td></tr>\n",
       "<tr><td>5346760432663794688</td><td>170.5860727009797</td><td>-54.19688016457582</td><td>-7.94452296617826</td><td>3.3637890548193017</td><td>-0.1367697124859259</td><td>0.23994304306416656</td><td>--</td></tr>\n",
       "<tr><td>5346729985640332160</td><td>169.48562377657655</td><td>-54.06875038256109</td><td>-0.5635904705092825</td><td>-3.4182449438407456</td><td>0.6315307357738447</td><td>0.07109026513737453</td><td>--</td></tr>\n",
       "<tr><td>5346733529004873344</td><td>169.5557674823343</td><td>-54.002861768576054</td><td>-7.118771395442103</td><td>0.02994846705187739</td><td>-0.21238765323726325</td><td>0.37816342426794475</td><td>--</td></tr>\n",
       "<tr><td>5346733288494034048</td><td>169.61686003027262</td><td>-54.01796718012191</td><td>-5.3025981822042265</td><td>0.4010390199260834</td><td>0.29638262175098223</td><td>0.12548400273384316</td><td>--</td></tr>\n",
       "<tr><td>5346741637901462528</td><td>169.136690871831</td><td>-54.050139636792586</td><td>-4.300747007117149</td><td>3.2151051650948568</td><td>-1.7166140836701762</td><td>0.5868042873629916</td><td>--</td></tr>\n",
       "<tr><td>5346728237607229312</td><td>169.3692703552186</td><td>-54.181779128811705</td><td>-6.171860375883581</td><td>3.498423294182275</td><td>0.5669982734393364</td><td>1.2589984031918084</td><td>--</td></tr>\n",
       "<tr><td>5346769434916492160</td><td>170.61505645175725</td><td>-53.96133313017685</td><td>-7.1057025490949774</td><td>2.3209449842646874</td><td>0.7989002866234133</td><td>0.423678007357904</td><td>--</td></tr>\n",
       "</table>"
      ],
      "text/plain": [
       "<Table length=10>\n",
       "     source_id              ra         ...    parallax_error   radial_velocity\n",
       "                           deg         ...         mas              km / s    \n",
       "       int64             float64       ...       float64           float64    \n",
       "------------------- ------------------ ... ------------------- ---------------\n",
       "5346745791121614208 169.00972137492994 ...  0.1835216022033725              --\n",
       "5346747822656582784   169.015312664555 ...  0.8499676236206128              --\n",
       "5346745688041546112 169.02324555442306 ... 0.21086466595261558              --\n",
       "5346760432663794688  170.5860727009797 ... 0.23994304306416656              --\n",
       "5346729985640332160 169.48562377657655 ... 0.07109026513737453              --\n",
       "5346733529004873344  169.5557674823343 ... 0.37816342426794475              --\n",
       "5346733288494034048 169.61686003027262 ... 0.12548400273384316              --\n",
       "5346741637901462528   169.136690871831 ...  0.5868042873629916              --\n",
       "5346728237607229312  169.3692703552186 ...  1.2589984031918084              --\n",
       "5346769434916492160 170.61505645175725 ...   0.423678007357904              --"
      ]
     },
     "execution_count": 34,
     "metadata": {},
     "output_type": "execute_result"
    }
   ],
   "source": [
    "results3 = job3.get_results()\n",
    "results3"
   ]
  },
  {
   "cell_type": "code",
   "execution_count": null,
   "metadata": {},
   "outputs": [],
   "source": []
  }
 ],
 "metadata": {
  "kernelspec": {
   "display_name": "Python (AstronomicalData)",
   "language": "python",
   "name": "astronomicaldata"
  },
  "language_info": {
   "codemirror_mode": {
    "name": "ipython",
    "version": 3
   },
   "file_extension": ".py",
   "mimetype": "text/x-python",
   "name": "python",
   "nbconvert_exporter": "python",
   "pygments_lexer": "ipython3",
   "version": "3.8.6"
  }
 },
 "nbformat": 4,
 "nbformat_minor": 4
}
