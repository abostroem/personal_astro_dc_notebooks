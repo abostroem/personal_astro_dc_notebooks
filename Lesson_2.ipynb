{
 "cells": [
  {
   "cell_type": "code",
   "execution_count": 1,
   "metadata": {},
   "outputs": [
    {
     "name": "stdout",
     "output_type": "stream",
     "text": [
      "Created TAP+ (v1.2.1) - Connection:\n",
      "\tHost: gea.esac.esa.int\n",
      "\tUse HTTPS: True\n",
      "\tPort: 443\n",
      "\tSSL Port: 443\n",
      "Created TAP+ (v1.2.1) - Connection:\n",
      "\tHost: geadata.esac.esa.int\n",
      "\tUse HTTPS: True\n",
      "\tPort: 443\n",
      "\tSSL Port: 443\n"
     ]
    }
   ],
   "source": [
    "from astroquery.gaia import Gaia"
   ]
  },
  {
   "cell_type": "markdown",
   "metadata": {},
   "source": [
    "# Selecting a Region "
   ]
  },
  {
   "cell_type": "markdown",
   "metadata": {},
   "source": [
    "## Cone Search"
   ]
  },
  {
   "cell_type": "code",
   "execution_count": 3,
   "metadata": {},
   "outputs": [],
   "source": [
    "query = \"\"\"\n",
    "SELECT\n",
    "TOP 10 source_id\n",
    "FROM gaiadr2.gaia_source\n",
    "WHERE 1=CONTAINS(\n",
    "POINT(ra, dec),\n",
    "CIRCLE(266.4, -29.0, 0.08))\"\"\""
   ]
  },
  {
   "cell_type": "markdown",
   "metadata": {},
   "source": [
    "POINT = ra and dec from individual rows in the table  \n",
    "CIRCLE = circle center, radius  \n",
    "CONTAINS: checks each point to see if its in the CIRCLE, returns 1 if it is  \n",
    "    \n",
    "In Where statement, set equal to 1 so returns all cases where CONTAINS returns 1\n"
   ]
  },
  {
   "cell_type": "code",
   "execution_count": 4,
   "metadata": {},
   "outputs": [
    {
     "data": {
      "text/html": [
       "<i>Table length=10</i>\n",
       "<table id=\"table140633043121776\" class=\"table-striped table-bordered table-condensed\">\n",
       "<thead><tr><th>source_id</th></tr></thead>\n",
       "<thead><tr><th>int64</th></tr></thead>\n",
       "<tr><td>4057468287575835392</td></tr>\n",
       "<tr><td>4057482027171038976</td></tr>\n",
       "<tr><td>4057470349160630656</td></tr>\n",
       "<tr><td>4057469868125641984</td></tr>\n",
       "<tr><td>4057468351995073024</td></tr>\n",
       "<tr><td>4057470520960672640</td></tr>\n",
       "<tr><td>4057470555320409600</td></tr>\n",
       "<tr><td>4057482954883979392</td></tr>\n",
       "<tr><td>4057470379220379776</td></tr>\n",
       "<tr><td>4057468356296135424</td></tr>\n",
       "</table>"
      ],
      "text/plain": [
       "<Table length=10>\n",
       "     source_id     \n",
       "       int64       \n",
       "-------------------\n",
       "4057468287575835392\n",
       "4057482027171038976\n",
       "4057470349160630656\n",
       "4057469868125641984\n",
       "4057468351995073024\n",
       "4057470520960672640\n",
       "4057470555320409600\n",
       "4057482954883979392\n",
       "4057470379220379776\n",
       "4057468356296135424"
      ]
     },
     "execution_count": 4,
     "metadata": {},
     "output_type": "execute_result"
    }
   ],
   "source": [
    "job = Gaia.launch_job(query)\n",
    "\n",
    "result = job.get_results()\n",
    "result"
   ]
  },
  {
   "cell_type": "markdown",
   "metadata": {},
   "source": [
    "Exercise 1: We've been using TOP to limit the size of queries returned - but this doesn't tell you how many rows your query actually returns. \n",
    "    The COUNT command returns the number of rows that would have been selected but does not return them.\n",
    "In the previous query replace TOP with COUNT(source_id) and run the query again. How many stars has Gaia identified in the cone we searched?"
   ]
  },
  {
   "cell_type": "code",
   "execution_count": 6,
   "metadata": {},
   "outputs": [],
   "source": [
    "query = \"\"\"\n",
    "SELECT\n",
    "COUNT(source_id)\n",
    "FROM gaiadr2.gaia_source\n",
    "WHERE 1=CONTAINS(\n",
    "POINT(ra, dec),\n",
    "CIRCLE(266.4, -29.0, 0.08))\"\"\""
   ]
  },
  {
   "cell_type": "code",
   "execution_count": 9,
   "metadata": {},
   "outputs": [
    {
     "data": {
      "text/html": [
       "<i>Table length=1</i>\n",
       "<table id=\"table140633077957392\" class=\"table-striped table-bordered table-condensed\">\n",
       "<thead><tr><th>count</th></tr></thead>\n",
       "<thead><tr><th>int64</th></tr></thead>\n",
       "<tr><td>1658</td></tr>\n",
       "</table>"
      ],
      "text/plain": [
       "<Table length=1>\n",
       "count\n",
       "int64\n",
       "-----\n",
       " 1658"
      ]
     },
     "execution_count": 9,
     "metadata": {},
     "output_type": "execute_result"
    }
   ],
   "source": [
    "job_ex1 = Gaia.launch_job(query)\n",
    "result_ex1 = job_ex1.get_results()\n",
    "result_ex1"
   ]
  },
  {
   "cell_type": "markdown",
   "metadata": {},
   "source": [
    "# Working with Coordinates"
   ]
  },
  {
   "cell_type": "markdown",
   "metadata": {},
   "source": [
    "Quantities object: number and unit (e.g. 30 deg is 30 + unit: deg)"
   ]
  },
  {
   "cell_type": "code",
   "execution_count": 10,
   "metadata": {},
   "outputs": [],
   "source": [
    "import astropy.units as u"
   ]
  },
  {
   "cell_type": "code",
   "execution_count": 11,
   "metadata": {},
   "outputs": [
    {
     "data": {
      "text/plain": [
       "['A',\n",
       " 'AA',\n",
       " 'AB',\n",
       " 'ABflux',\n",
       " 'ABmag',\n",
       " 'AU',\n",
       " 'Angstrom',\n",
       " 'B',\n",
       " 'Ba',\n",
       " 'Barye',\n",
       " 'Bi',\n",
       " 'Biot',\n",
       " 'Bol',\n",
       " 'Bq',\n",
       " 'C',\n",
       " 'Celsius',\n",
       " 'Ci',\n",
       " 'CompositeUnit',\n",
       " 'D',\n",
       " 'Da',\n",
       " 'Dalton',\n",
       " 'Debye',\n",
       " 'Decibel',\n",
       " 'DecibelUnit',\n",
       " 'Dex',\n",
       " 'DexUnit',\n",
       " 'EA',\n",
       " 'EAU',\n",
       " 'EB',\n",
       " 'EBa',\n",
       " 'EC',\n",
       " 'ED',\n",
       " 'EF',\n",
       " 'EG',\n",
       " 'EGal',\n",
       " 'EH',\n",
       " 'EHz',\n",
       " 'EJ',\n",
       " 'EJy',\n",
       " 'EK',\n",
       " 'EL',\n",
       " 'EN',\n",
       " 'EOhm',\n",
       " 'EP',\n",
       " 'EPa',\n",
       " 'ER',\n",
       " 'ERy',\n",
       " 'ES',\n",
       " 'ESt',\n",
       " 'ET',\n",
       " 'EV',\n",
       " 'EW',\n",
       " 'EWb',\n",
       " 'Ea',\n",
       " 'Eadu',\n",
       " 'Earcmin',\n",
       " 'Earcsec',\n",
       " 'Eau',\n",
       " 'Eb',\n",
       " 'Ebarn',\n",
       " 'Ebeam',\n",
       " 'Ebin',\n",
       " 'Ebit',\n",
       " 'Ebyte',\n",
       " 'Ecd',\n",
       " 'Echan',\n",
       " 'Ecount',\n",
       " 'Ect',\n",
       " 'Ed',\n",
       " 'Edeg',\n",
       " 'Edyn',\n",
       " 'EeV',\n",
       " 'Eerg',\n",
       " 'Eg',\n",
       " 'Eh',\n",
       " 'EiB',\n",
       " 'Eib',\n",
       " 'Eibit',\n",
       " 'Eibyte',\n",
       " 'Ek',\n",
       " 'El',\n",
       " 'Elm',\n",
       " 'Elx',\n",
       " 'Elyr',\n",
       " 'Em',\n",
       " 'Emag',\n",
       " 'Emin',\n",
       " 'Emol',\n",
       " 'Eohm',\n",
       " 'Epc',\n",
       " 'Eph',\n",
       " 'Ephoton',\n",
       " 'Epix',\n",
       " 'Epixel',\n",
       " 'Erad',\n",
       " 'Es',\n",
       " 'Esr',\n",
       " 'Eu',\n",
       " 'Evox',\n",
       " 'Evoxel',\n",
       " 'Eyr',\n",
       " 'F',\n",
       " 'Farad',\n",
       " 'Fr',\n",
       " 'Franklin',\n",
       " 'FunctionQuantity',\n",
       " 'FunctionUnitBase',\n",
       " 'G',\n",
       " 'GA',\n",
       " 'GAU',\n",
       " 'GB',\n",
       " 'GBa',\n",
       " 'GC',\n",
       " 'GD',\n",
       " 'GF',\n",
       " 'GG',\n",
       " 'GGal',\n",
       " 'GH',\n",
       " 'GHz',\n",
       " 'GJ',\n",
       " 'GJy',\n",
       " 'GK',\n",
       " 'GL',\n",
       " 'GN',\n",
       " 'GOhm',\n",
       " 'GP',\n",
       " 'GPa',\n",
       " 'GR',\n",
       " 'GRy',\n",
       " 'GS',\n",
       " 'GSt',\n",
       " 'GT',\n",
       " 'GV',\n",
       " 'GW',\n",
       " 'GWb',\n",
       " 'Ga',\n",
       " 'Gadu',\n",
       " 'Gal',\n",
       " 'Garcmin',\n",
       " 'Garcsec',\n",
       " 'Gau',\n",
       " 'Gauss',\n",
       " 'Gb',\n",
       " 'Gbarn',\n",
       " 'Gbeam',\n",
       " 'Gbin',\n",
       " 'Gbit',\n",
       " 'Gbyte',\n",
       " 'Gcd',\n",
       " 'Gchan',\n",
       " 'Gcount',\n",
       " 'Gct',\n",
       " 'Gd',\n",
       " 'Gdeg',\n",
       " 'Gdyn',\n",
       " 'GeV',\n",
       " 'Gerg',\n",
       " 'Gg',\n",
       " 'Gh',\n",
       " 'GiB',\n",
       " 'Gib',\n",
       " 'Gibit',\n",
       " 'Gibyte',\n",
       " 'Gk',\n",
       " 'Gl',\n",
       " 'Glm',\n",
       " 'Glx',\n",
       " 'Glyr',\n",
       " 'Gm',\n",
       " 'Gmag',\n",
       " 'Gmin',\n",
       " 'Gmol',\n",
       " 'Gohm',\n",
       " 'Gpc',\n",
       " 'Gph',\n",
       " 'Gphoton',\n",
       " 'Gpix',\n",
       " 'Gpixel',\n",
       " 'Grad',\n",
       " 'Gs',\n",
       " 'Gsr',\n",
       " 'Gu',\n",
       " 'Gvox',\n",
       " 'Gvoxel',\n",
       " 'Gyr',\n",
       " 'H',\n",
       " 'Henry',\n",
       " 'Hertz',\n",
       " 'Hz',\n",
       " 'IrreducibleUnit',\n",
       " 'J',\n",
       " 'Jansky',\n",
       " 'Joule',\n",
       " 'Jy',\n",
       " 'K',\n",
       " 'Kayser',\n",
       " 'Kelvin',\n",
       " 'KiB',\n",
       " 'Kib',\n",
       " 'Kibit',\n",
       " 'Kibyte',\n",
       " 'L',\n",
       " 'L_bol',\n",
       " 'L_sun',\n",
       " 'LogQuantity',\n",
       " 'LogUnit',\n",
       " 'Lsun',\n",
       " 'MA',\n",
       " 'MAU',\n",
       " 'MB',\n",
       " 'MBa',\n",
       " 'MC',\n",
       " 'MD',\n",
       " 'MF',\n",
       " 'MG',\n",
       " 'MGal',\n",
       " 'MH',\n",
       " 'MHz',\n",
       " 'MJ',\n",
       " 'MJy',\n",
       " 'MK',\n",
       " 'ML',\n",
       " 'MN',\n",
       " 'MOhm',\n",
       " 'MP',\n",
       " 'MPa',\n",
       " 'MR',\n",
       " 'MRy',\n",
       " 'MS',\n",
       " 'MSt',\n",
       " 'MT',\n",
       " 'MV',\n",
       " 'MW',\n",
       " 'MWb',\n",
       " 'M_bol',\n",
       " 'M_e',\n",
       " 'M_earth',\n",
       " 'M_jup',\n",
       " 'M_jupiter',\n",
       " 'M_p',\n",
       " 'M_sun',\n",
       " 'Ma',\n",
       " 'Madu',\n",
       " 'MagUnit',\n",
       " 'Magnitude',\n",
       " 'Marcmin',\n",
       " 'Marcsec',\n",
       " 'Mau',\n",
       " 'Mb',\n",
       " 'Mbarn',\n",
       " 'Mbeam',\n",
       " 'Mbin',\n",
       " 'Mbit',\n",
       " 'Mbyte',\n",
       " 'Mcd',\n",
       " 'Mchan',\n",
       " 'Mcount',\n",
       " 'Mct',\n",
       " 'Md',\n",
       " 'Mdeg',\n",
       " 'Mdyn',\n",
       " 'MeV',\n",
       " 'Mearth',\n",
       " 'Merg',\n",
       " 'Mg',\n",
       " 'Mh',\n",
       " 'MiB',\n",
       " 'Mib',\n",
       " 'Mibit',\n",
       " 'Mibyte',\n",
       " 'Mjup',\n",
       " 'Mjupiter',\n",
       " 'Mk',\n",
       " 'Ml',\n",
       " 'Mlm',\n",
       " 'Mlx',\n",
       " 'Mlyr',\n",
       " 'Mm',\n",
       " 'Mmag',\n",
       " 'Mmin',\n",
       " 'Mmol',\n",
       " 'Mohm',\n",
       " 'Mpc',\n",
       " 'Mph',\n",
       " 'Mphoton',\n",
       " 'Mpix',\n",
       " 'Mpixel',\n",
       " 'Mrad',\n",
       " 'Ms',\n",
       " 'Msr',\n",
       " 'Msun',\n",
       " 'Mu',\n",
       " 'Mvox',\n",
       " 'Mvoxel',\n",
       " 'Myr',\n",
       " 'N',\n",
       " 'NamedUnit',\n",
       " 'Newton',\n",
       " 'Ohm',\n",
       " 'P',\n",
       " 'PA',\n",
       " 'PAU',\n",
       " 'PB',\n",
       " 'PBa',\n",
       " 'PC',\n",
       " 'PD',\n",
       " 'PF',\n",
       " 'PG',\n",
       " 'PGal',\n",
       " 'PH',\n",
       " 'PHz',\n",
       " 'PJ',\n",
       " 'PJy',\n",
       " 'PK',\n",
       " 'PL',\n",
       " 'PN',\n",
       " 'POhm',\n",
       " 'PP',\n",
       " 'PPa',\n",
       " 'PR',\n",
       " 'PRy',\n",
       " 'PS',\n",
       " 'PSt',\n",
       " 'PT',\n",
       " 'PV',\n",
       " 'PW',\n",
       " 'PWb',\n",
       " 'Pa',\n",
       " 'Padu',\n",
       " 'Parcmin',\n",
       " 'Parcsec',\n",
       " 'Pascal',\n",
       " 'Pau',\n",
       " 'Pb',\n",
       " 'Pbarn',\n",
       " 'Pbeam',\n",
       " 'Pbin',\n",
       " 'Pbit',\n",
       " 'Pbyte',\n",
       " 'Pcd',\n",
       " 'Pchan',\n",
       " 'Pcount',\n",
       " 'Pct',\n",
       " 'Pd',\n",
       " 'Pdeg',\n",
       " 'Pdyn',\n",
       " 'PeV',\n",
       " 'Perg',\n",
       " 'Pg',\n",
       " 'Ph',\n",
       " 'PiB',\n",
       " 'Pib',\n",
       " 'Pibit',\n",
       " 'Pibyte',\n",
       " 'Pk',\n",
       " 'Pl',\n",
       " 'Plm',\n",
       " 'Plx',\n",
       " 'Plyr',\n",
       " 'Pm',\n",
       " 'Pmag',\n",
       " 'Pmin',\n",
       " 'Pmol',\n",
       " 'Pohm',\n",
       " 'Ppc',\n",
       " 'Pph',\n",
       " 'Pphoton',\n",
       " 'Ppix',\n",
       " 'Ppixel',\n",
       " 'Prad',\n",
       " 'PrefixUnit',\n",
       " 'Ps',\n",
       " 'Psr',\n",
       " 'Pu',\n",
       " 'Pvox',\n",
       " 'Pvoxel',\n",
       " 'Pyr',\n",
       " 'Quantity',\n",
       " 'QuantityInfo',\n",
       " 'QuantityInfoBase',\n",
       " 'R',\n",
       " 'R_earth',\n",
       " 'R_jup',\n",
       " 'R_jupiter',\n",
       " 'R_sun',\n",
       " 'Rayleigh',\n",
       " 'Rearth',\n",
       " 'Rjup',\n",
       " 'Rjupiter',\n",
       " 'Rsun',\n",
       " 'Ry',\n",
       " 'S',\n",
       " 'ST',\n",
       " 'STflux',\n",
       " 'STmag',\n",
       " 'Siemens',\n",
       " 'SpecificTypeQuantity',\n",
       " 'St',\n",
       " 'Sun',\n",
       " 'T',\n",
       " 'TA',\n",
       " 'TAU',\n",
       " 'TB',\n",
       " 'TBa',\n",
       " 'TC',\n",
       " 'TD',\n",
       " 'TF',\n",
       " 'TG',\n",
       " 'TGal',\n",
       " 'TH',\n",
       " 'THz',\n",
       " 'TJ',\n",
       " 'TJy',\n",
       " 'TK',\n",
       " 'TL',\n",
       " 'TN',\n",
       " 'TOhm',\n",
       " 'TP',\n",
       " 'TPa',\n",
       " 'TR',\n",
       " 'TRy',\n",
       " 'TS',\n",
       " 'TSt',\n",
       " 'TT',\n",
       " 'TV',\n",
       " 'TW',\n",
       " 'TWb',\n",
       " 'Ta',\n",
       " 'Tadu',\n",
       " 'Tarcmin',\n",
       " 'Tarcsec',\n",
       " 'Tau',\n",
       " 'Tb',\n",
       " 'Tbarn',\n",
       " 'Tbeam',\n",
       " 'Tbin',\n",
       " 'Tbit',\n",
       " 'Tbyte',\n",
       " 'Tcd',\n",
       " 'Tchan',\n",
       " 'Tcount',\n",
       " 'Tct',\n",
       " 'Td',\n",
       " 'Tdeg',\n",
       " 'Tdyn',\n",
       " 'TeV',\n",
       " 'Terg',\n",
       " 'Tesla',\n",
       " 'Tg',\n",
       " 'Th',\n",
       " 'TiB',\n",
       " 'Tib',\n",
       " 'Tibit',\n",
       " 'Tibyte',\n",
       " 'Tk',\n",
       " 'Tl',\n",
       " 'Tlm',\n",
       " 'Tlx',\n",
       " 'Tlyr',\n",
       " 'Tm',\n",
       " 'Tmag',\n",
       " 'Tmin',\n",
       " 'Tmol',\n",
       " 'Tohm',\n",
       " 'Torr',\n",
       " 'Tpc',\n",
       " 'Tph',\n",
       " 'Tphoton',\n",
       " 'Tpix',\n",
       " 'Tpixel',\n",
       " 'Trad',\n",
       " 'Ts',\n",
       " 'Tsr',\n",
       " 'Tu',\n",
       " 'Tvox',\n",
       " 'Tvoxel',\n",
       " 'Tyr',\n",
       " 'Unit',\n",
       " 'UnitBase',\n",
       " 'UnitConversionError',\n",
       " 'UnitTypeError',\n",
       " 'UnitsError',\n",
       " 'UnitsWarning',\n",
       " 'UnrecognizedUnit',\n",
       " 'V',\n",
       " 'Volt',\n",
       " 'W',\n",
       " 'Watt',\n",
       " 'Wb',\n",
       " 'Weber',\n",
       " 'YA',\n",
       " 'YAU',\n",
       " 'YB',\n",
       " 'YBa',\n",
       " 'YC',\n",
       " 'YD',\n",
       " 'YF',\n",
       " 'YG',\n",
       " 'YGal',\n",
       " 'YH',\n",
       " 'YHz',\n",
       " 'YJ',\n",
       " 'YJy',\n",
       " 'YK',\n",
       " 'YL',\n",
       " 'YN',\n",
       " 'YOhm',\n",
       " 'YP',\n",
       " 'YPa',\n",
       " 'YR',\n",
       " 'YRy',\n",
       " 'YS',\n",
       " 'YSt',\n",
       " 'YT',\n",
       " 'YV',\n",
       " 'YW',\n",
       " 'YWb',\n",
       " 'Ya',\n",
       " 'Yadu',\n",
       " 'Yarcmin',\n",
       " 'Yarcsec',\n",
       " 'Yau',\n",
       " 'Yb',\n",
       " 'Ybarn',\n",
       " 'Ybeam',\n",
       " 'Ybin',\n",
       " 'Ybit',\n",
       " 'Ybyte',\n",
       " 'Ycd',\n",
       " 'Ychan',\n",
       " 'Ycount',\n",
       " 'Yct',\n",
       " 'Yd',\n",
       " 'Ydeg',\n",
       " 'Ydyn',\n",
       " 'YeV',\n",
       " 'Yerg',\n",
       " 'Yg',\n",
       " 'Yh',\n",
       " 'Yk',\n",
       " 'Yl',\n",
       " 'Ylm',\n",
       " 'Ylx',\n",
       " 'Ylyr',\n",
       " 'Ym',\n",
       " 'Ymag',\n",
       " 'Ymin',\n",
       " 'Ymol',\n",
       " 'Yohm',\n",
       " 'Ypc',\n",
       " 'Yph',\n",
       " 'Yphoton',\n",
       " 'Ypix',\n",
       " 'Ypixel',\n",
       " 'Yrad',\n",
       " 'Ys',\n",
       " 'Ysr',\n",
       " 'Yu',\n",
       " 'Yvox',\n",
       " 'Yvoxel',\n",
       " 'Yyr',\n",
       " 'ZA',\n",
       " 'ZAU',\n",
       " 'ZB',\n",
       " 'ZBa',\n",
       " 'ZC',\n",
       " 'ZD',\n",
       " 'ZF',\n",
       " 'ZG',\n",
       " 'ZGal',\n",
       " 'ZH',\n",
       " 'ZHz',\n",
       " 'ZJ',\n",
       " 'ZJy',\n",
       " 'ZK',\n",
       " 'ZL',\n",
       " 'ZN',\n",
       " 'ZOhm',\n",
       " 'ZP',\n",
       " 'ZPa',\n",
       " 'ZR',\n",
       " 'ZRy',\n",
       " 'ZS',\n",
       " 'ZSt',\n",
       " 'ZT',\n",
       " 'ZV',\n",
       " 'ZW',\n",
       " 'ZWb',\n",
       " 'Za',\n",
       " 'Zadu',\n",
       " 'Zarcmin',\n",
       " 'Zarcsec',\n",
       " 'Zau',\n",
       " 'Zb',\n",
       " 'Zbarn',\n",
       " 'Zbeam',\n",
       " 'Zbin',\n",
       " 'Zbit',\n",
       " 'Zbyte',\n",
       " 'Zcd',\n",
       " 'Zchan',\n",
       " 'Zcount',\n",
       " 'Zct',\n",
       " 'Zd',\n",
       " 'Zdeg',\n",
       " 'Zdyn',\n",
       " 'ZeV',\n",
       " 'Zerg',\n",
       " 'Zg',\n",
       " 'Zh',\n",
       " 'Zk',\n",
       " 'Zl',\n",
       " 'Zlm',\n",
       " 'Zlx',\n",
       " 'Zlyr',\n",
       " 'Zm',\n",
       " 'Zmag',\n",
       " 'Zmin',\n",
       " 'Zmol',\n",
       " 'Zohm',\n",
       " 'Zpc',\n",
       " 'Zph',\n",
       " 'Zphoton',\n",
       " 'Zpix',\n",
       " 'Zpixel',\n",
       " 'Zrad',\n",
       " 'Zs',\n",
       " 'Zsr',\n",
       " 'Zu',\n",
       " 'Zvox',\n",
       " 'Zvoxel',\n",
       " 'Zyr',\n",
       " '__builtins__',\n",
       " '__cached__',\n",
       " '__doc__',\n",
       " '__file__',\n",
       " '__loader__',\n",
       " '__name__',\n",
       " '__package__',\n",
       " '__path__',\n",
       " '__spec__',\n",
       " 'a',\n",
       " 'aA',\n",
       " 'aAU',\n",
       " 'aB',\n",
       " 'aBa',\n",
       " 'aC',\n",
       " 'aD',\n",
       " 'aF',\n",
       " 'aG',\n",
       " 'aGal',\n",
       " 'aH',\n",
       " 'aHz',\n",
       " 'aJ',\n",
       " 'aJy',\n",
       " 'aK',\n",
       " 'aL',\n",
       " 'aN',\n",
       " 'aOhm',\n",
       " 'aP',\n",
       " 'aPa',\n",
       " 'aR',\n",
       " 'aRy',\n",
       " 'aS',\n",
       " 'aSt',\n",
       " 'aT',\n",
       " 'aV',\n",
       " 'aW',\n",
       " 'aWb',\n",
       " 'aa',\n",
       " 'aadu',\n",
       " 'aarcmin',\n",
       " 'aarcsec',\n",
       " 'aau',\n",
       " 'ab',\n",
       " 'abA',\n",
       " 'abC',\n",
       " 'abampere',\n",
       " 'abarn',\n",
       " 'abcoulomb',\n",
       " 'abeam',\n",
       " 'abin',\n",
       " 'abit',\n",
       " 'abyte',\n",
       " 'acd',\n",
       " 'achan',\n",
       " 'acount',\n",
       " 'act',\n",
       " 'ad',\n",
       " 'add_enabled_equivalencies',\n",
       " 'add_enabled_units',\n",
       " 'adeg',\n",
       " 'adu',\n",
       " 'adyn',\n",
       " 'aeV',\n",
       " 'aerg',\n",
       " 'ag',\n",
       " 'ah',\n",
       " 'ak',\n",
       " 'al',\n",
       " 'allclose',\n",
       " 'alm',\n",
       " 'alx',\n",
       " 'alyr',\n",
       " 'am',\n",
       " 'amag',\n",
       " 'amin',\n",
       " 'amol',\n",
       " 'amp',\n",
       " 'ampere',\n",
       " 'angstrom',\n",
       " 'annum',\n",
       " 'aohm',\n",
       " 'apc',\n",
       " 'aph',\n",
       " 'aphoton',\n",
       " 'apix',\n",
       " 'apixel',\n",
       " 'arad',\n",
       " 'arcmin',\n",
       " 'arcminute',\n",
       " 'arcsec',\n",
       " 'arcsecond',\n",
       " 'asr',\n",
       " 'astronomical_unit',\n",
       " 'astrophys',\n",
       " 'attoBarye',\n",
       " 'attoDa',\n",
       " 'attoDalton',\n",
       " 'attoDebye',\n",
       " 'attoFarad',\n",
       " 'attoGauss',\n",
       " 'attoHenry',\n",
       " 'attoHertz',\n",
       " 'attoJansky',\n",
       " 'attoJoule',\n",
       " 'attoKayser',\n",
       " 'attoKelvin',\n",
       " 'attoNewton',\n",
       " 'attoOhm',\n",
       " 'attoPascal',\n",
       " 'attoRayleigh',\n",
       " 'attoSiemens',\n",
       " 'attoTesla',\n",
       " 'attoVolt',\n",
       " 'attoWatt',\n",
       " 'attoWeber',\n",
       " 'attoamp',\n",
       " 'attoampere',\n",
       " 'attoannum',\n",
       " 'attoarcminute',\n",
       " 'attoarcsecond',\n",
       " 'attoastronomical_unit',\n",
       " 'attobarn',\n",
       " 'attobarye',\n",
       " 'attobit',\n",
       " 'attobyte',\n",
       " 'attocandela',\n",
       " 'attocoulomb',\n",
       " 'attocount',\n",
       " 'attoday',\n",
       " 'attodebye',\n",
       " 'attodegree',\n",
       " 'attodyne',\n",
       " 'attoelectronvolt',\n",
       " 'attofarad',\n",
       " 'attogal',\n",
       " 'attogauss',\n",
       " 'attogram',\n",
       " 'attohenry',\n",
       " 'attohertz',\n",
       " 'attohour',\n",
       " 'attohr',\n",
       " 'attojansky',\n",
       " 'attojoule',\n",
       " 'attokayser',\n",
       " 'attolightyear',\n",
       " 'attoliter',\n",
       " 'attolumen',\n",
       " 'attolux',\n",
       " 'attometer',\n",
       " 'attominute',\n",
       " 'attomole',\n",
       " 'attonewton',\n",
       " 'attoparsec',\n",
       " 'attopascal',\n",
       " 'attophoton',\n",
       " 'attopixel',\n",
       " 'attopoise',\n",
       " 'attoradian',\n",
       " 'attorayleigh',\n",
       " 'attorydberg',\n",
       " 'attosecond',\n",
       " 'attosiemens',\n",
       " 'attosteradian',\n",
       " 'attostokes',\n",
       " 'attotesla',\n",
       " 'attovolt',\n",
       " 'attovoxel',\n",
       " 'attowatt',\n",
       " 'attoweber',\n",
       " 'attoyear',\n",
       " 'au',\n",
       " 'avox',\n",
       " 'avoxel',\n",
       " 'ayr',\n",
       " 'b',\n",
       " 'bar',\n",
       " 'barn',\n",
       " 'barye',\n",
       " 'beam',\n",
       " 'beam_angular_area',\n",
       " 'becquerel',\n",
       " 'bin',\n",
       " 'binary_prefixes',\n",
       " 'bit',\n",
       " 'bol',\n",
       " 'brightness_temperature',\n",
       " 'byte',\n",
       " 'cA',\n",
       " 'cAU',\n",
       " 'cB',\n",
       " 'cBa',\n",
       " 'cC',\n",
       " 'cD',\n",
       " 'cF',\n",
       " 'cG',\n",
       " 'cGal',\n",
       " 'cH',\n",
       " 'cHz',\n",
       " 'cJ',\n",
       " 'cJy',\n",
       " 'cK',\n",
       " 'cL',\n",
       " 'cN',\n",
       " 'cOhm',\n",
       " 'cP',\n",
       " 'cPa',\n",
       " 'cR',\n",
       " 'cRy',\n",
       " 'cS',\n",
       " 'cSt',\n",
       " 'cT',\n",
       " 'cV',\n",
       " 'cW',\n",
       " 'cWb',\n",
       " 'ca',\n",
       " 'cadu',\n",
       " 'candela',\n",
       " 'carcmin',\n",
       " 'carcsec',\n",
       " 'cau',\n",
       " 'cb',\n",
       " 'cbarn',\n",
       " 'cbeam',\n",
       " 'cbin',\n",
       " 'cbit',\n",
       " 'cbyte',\n",
       " 'ccd',\n",
       " 'cchan',\n",
       " 'ccount',\n",
       " 'cct',\n",
       " 'cd',\n",
       " 'cdeg',\n",
       " 'cdyn',\n",
       " 'ceV',\n",
       " 'centiBarye',\n",
       " 'centiDa',\n",
       " 'centiDalton',\n",
       " 'centiDebye',\n",
       " 'centiFarad',\n",
       " 'centiGauss',\n",
       " 'centiHenry',\n",
       " 'centiHertz',\n",
       " 'centiJansky',\n",
       " 'centiJoule',\n",
       " 'centiKayser',\n",
       " 'centiKelvin',\n",
       " 'centiNewton',\n",
       " 'centiOhm',\n",
       " 'centiPascal',\n",
       " 'centiRayleigh',\n",
       " 'centiSiemens',\n",
       " 'centiTesla',\n",
       " 'centiVolt',\n",
       " 'centiWatt',\n",
       " 'centiWeber',\n",
       " 'centiamp',\n",
       " 'centiampere',\n",
       " 'centiannum',\n",
       " 'centiarcminute',\n",
       " 'centiarcsecond',\n",
       " 'centiastronomical_unit',\n",
       " 'centibarn',\n",
       " 'centibarye',\n",
       " 'centibit',\n",
       " 'centibyte',\n",
       " 'centicandela',\n",
       " 'centicoulomb',\n",
       " 'centicount',\n",
       " 'centiday',\n",
       " 'centidebye',\n",
       " 'centidegree',\n",
       " 'centidyne',\n",
       " 'centielectronvolt',\n",
       " 'centifarad',\n",
       " 'centigal',\n",
       " 'centigauss',\n",
       " 'centigram',\n",
       " 'centihenry',\n",
       " 'centihertz',\n",
       " 'centihour',\n",
       " 'centihr',\n",
       " 'centijansky',\n",
       " 'centijoule',\n",
       " 'centikayser',\n",
       " 'centilightyear',\n",
       " 'centiliter',\n",
       " 'centilumen',\n",
       " 'centilux',\n",
       " 'centimeter',\n",
       " 'centiminute',\n",
       " 'centimole',\n",
       " 'centinewton',\n",
       " 'centiparsec',\n",
       " 'centipascal',\n",
       " 'centiphoton',\n",
       " 'centipixel',\n",
       " 'centipoise',\n",
       " 'centiradian',\n",
       " 'centirayleigh',\n",
       " 'centirydberg',\n",
       " 'centisecond',\n",
       " 'centisiemens',\n",
       " 'centisteradian',\n",
       " 'centistokes',\n",
       " 'centitesla',\n",
       " 'centivolt',\n",
       " 'centivoxel',\n",
       " 'centiwatt',\n",
       " 'centiweber',\n",
       " 'centiyear',\n",
       " 'cerg',\n",
       " 'cg',\n",
       " 'cgs',\n",
       " 'ch',\n",
       " 'chan',\n",
       " 'ck',\n",
       " 'cl',\n",
       " 'clm',\n",
       " 'clx',\n",
       " 'clyr',\n",
       " 'cm',\n",
       " 'cmag',\n",
       " 'cmin',\n",
       " 'cmol',\n",
       " 'cohm',\n",
       " 'core',\n",
       " 'coulomb',\n",
       " 'count',\n",
       " 'cpc',\n",
       " 'cph',\n",
       " 'cphoton',\n",
       " 'cpix',\n",
       " 'cpixel',\n",
       " 'crad',\n",
       " 'cs',\n",
       " 'csr',\n",
       " 'ct',\n",
       " 'cu',\n",
       " 'curie',\n",
       " 'cvox',\n",
       " 'cvoxel',\n",
       " 'cy',\n",
       " 'cycle',\n",
       " 'cyr',\n",
       " 'd',\n",
       " 'dA',\n",
       " 'dAU',\n",
       " 'dB',\n",
       " 'dBa',\n",
       " 'dC',\n",
       " 'dD',\n",
       " 'dF',\n",
       " 'dG',\n",
       " 'dGal',\n",
       " 'dH',\n",
       " 'dHz',\n",
       " 'dJ',\n",
       " 'dJy',\n",
       " 'dK',\n",
       " 'dL',\n",
       " 'dN',\n",
       " 'dOhm',\n",
       " 'dP',\n",
       " 'dPa',\n",
       " 'dR',\n",
       " 'dRy',\n",
       " 'dS',\n",
       " 'dSt',\n",
       " ...]"
      ]
     },
     "execution_count": 11,
     "metadata": {},
     "output_type": "execute_result"
    }
   ],
   "source": [
    "dir(u)"
   ]
  },
  {
   "cell_type": "markdown",
   "metadata": {},
   "source": [
    "### Creating a unit"
   ]
  },
  {
   "cell_type": "code",
   "execution_count": 14,
   "metadata": {},
   "outputs": [
    {
     "data": {
      "text/plain": [
       "astropy.units.quantity.Quantity"
      ]
     },
     "execution_count": 14,
     "metadata": {},
     "output_type": "execute_result"
    }
   ],
   "source": [
    "ra = 30*u.deg\n",
    "type(ra)"
   ]
  },
  {
   "cell_type": "code",
   "execution_count": 15,
   "metadata": {},
   "outputs": [
    {
     "data": {
      "text/latex": [
       "$30 \\; \\mathrm{{}^{\\circ}}$"
      ],
      "text/plain": [
       "<Quantity 30. deg>"
      ]
     },
     "execution_count": 15,
     "metadata": {},
     "output_type": "execute_result"
    }
   ],
   "source": [
    "ra"
   ]
  },
  {
   "cell_type": "markdown",
   "metadata": {},
   "source": [
    "## Selecting the rectangle around GD-1"
   ]
  },
  {
   "cell_type": "markdown",
   "metadata": {},
   "source": [
    "define x and y min and max values (subset to make dataset size more managable)"
   ]
  },
  {
   "cell_type": "code",
   "execution_count": 17,
   "metadata": {},
   "outputs": [],
   "source": [
    "phi1_min = -55\n",
    "phi1_max = -45\n",
    "phi2_min = -8\n",
    "phi2_max = 4"
   ]
  },
  {
   "cell_type": "markdown",
   "metadata": {},
   "source": [
    "Build list of x and y coordinates of the vertices of a rectangle (CCW from lower left corner)"
   ]
  },
  {
   "cell_type": "code",
   "execution_count": 19,
   "metadata": {},
   "outputs": [],
   "source": [
    "phi1_rect = [phi1_min, phi1_min, phi1_max, phi1_max]*u.deg\n",
    "phi2_rect = [phi2_min, phi2_max, phi2_max, phi2_min]*u.deg"
   ]
  },
  {
   "cell_type": "markdown",
   "metadata": {},
   "source": [
    "Figure in GD-1 frame (rotated to align with stream axes). Gaia catalog in ICRS coordinates (standard). To select these stars in the Gaia catalog we need to convert our vertices to from a rectangle in GD-1 space to a polygon in ICRS space"
   ]
  },
  {
   "cell_type": "code",
   "execution_count": 20,
   "metadata": {},
   "outputs": [],
   "source": [
    "import gala.coordinates as gc"
   ]
  },
  {
   "cell_type": "code",
   "execution_count": 21,
   "metadata": {},
   "outputs": [
    {
     "data": {
      "text/plain": [
       "gala.coordinates.gd1.GD1Koposov10"
      ]
     },
     "execution_count": 21,
     "metadata": {},
     "output_type": "execute_result"
    }
   ],
   "source": [
    "corners = gc.GD1Koposov10(phi1 = phi1_rect, phi2 = phi2_rect)\n",
    "type(corners)"
   ]
  },
  {
   "cell_type": "code",
   "execution_count": 22,
   "metadata": {},
   "outputs": [
    {
     "data": {
      "text/plain": [
       "<GD1Koposov10 Coordinate: (phi1, phi2) in deg\n",
       "    [(-55., -8.), (-55.,  4.), (-45.,  4.), (-45., -8.)]>"
      ]
     },
     "execution_count": 22,
     "metadata": {},
     "output_type": "execute_result"
    }
   ],
   "source": [
    "corners"
   ]
  },
  {
   "cell_type": "code",
   "execution_count": 23,
   "metadata": {},
   "outputs": [],
   "source": [
    "import astropy.coordinates as coord"
   ]
  },
  {
   "cell_type": "code",
   "execution_count": 24,
   "metadata": {},
   "outputs": [],
   "source": [
    "corners_icrs = corners.transform_to(coord.ICRS)"
   ]
  },
  {
   "cell_type": "code",
   "execution_count": 25,
   "metadata": {},
   "outputs": [
    {
     "data": {
      "text/plain": [
       "<ICRS Coordinate: (ra, dec) in deg\n",
       "    [(146.27533314, 19.26190982), (135.42163944, 25.87738723),\n",
       "     (141.60264825, 34.3048303 ), (152.81671045, 27.13611254)]>"
      ]
     },
     "execution_count": 25,
     "metadata": {},
     "output_type": "execute_result"
    }
   ],
   "source": [
    "corners_icrs"
   ]
  },
  {
   "cell_type": "markdown",
   "metadata": {},
   "source": [
    "# Selecting a polygon"
   ]
  },
  {
   "cell_type": "markdown",
   "metadata": {},
   "source": [
    "#### Recall our example with CONTAINS"
   ]
  },
  {
   "cell_type": "code",
   "execution_count": 26,
   "metadata": {},
   "outputs": [],
   "source": [
    "query = \"\"\"\n",
    "SELECT\n",
    "COUNT(source_id)\n",
    "FROM gaiadr2.gaia_source\n",
    "WHERE 1=CONTAINS(\n",
    "POINT(ra, dec),\n",
    "CIRCLE(266.4, -29.0, 0.08))\"\"\""
   ]
  },
  {
   "cell_type": "markdown",
   "metadata": {},
   "source": [
    "We're going to replace CIRLE with POLYGON in our contains example"
   ]
  },
  {
   "cell_type": "markdown",
   "metadata": {},
   "source": [
    "POLYGON accepts a list of x,y values of the vertices"
   ]
  },
  {
   "cell_type": "markdown",
   "metadata": {},
   "source": [
    "corners_icrs is a list of ra, dec tuples. We are first going to create a list of strings x, y, then join them together into a single string with the .join function"
   ]
  },
  {
   "cell_type": "code",
   "execution_count": 28,
   "metadata": {},
   "outputs": [
    {
     "name": "stdout",
     "output_type": "stream",
     "text": [
      "146d16m31.1993s 19d15m42.8754s\n",
      "135d25m17.902s 25d52m38.594s\n",
      "141d36m09.5337s 34d18m17.3891s\n",
      "152d49m00.1576s 27d08m10.0051s\n"
     ]
    }
   ],
   "source": [
    "for point in corners_icrs:\n",
    "    print(point.ra, point.dec)"
   ]
  },
  {
   "cell_type": "code",
   "execution_count": 31,
   "metadata": {},
   "outputs": [
    {
     "name": "stdout",
     "output_type": "stream",
     "text": [
      "146.27533313607782 19.261909820533692\n",
      "135.42163944306296 25.877387227672134\n",
      "141.60264825107333 34.304830296257144\n",
      "152.81671044675923 27.136112541397996\n"
     ]
    }
   ],
   "source": [
    "for point in corners_icrs:\n",
    "    print(point.ra.value, point.dec.value)"
   ]
  },
  {
   "cell_type": "code",
   "execution_count": 36,
   "metadata": {},
   "outputs": [
    {
     "data": {
      "text/plain": [
       "['146.27533313607782, 19.261909820533692',\n",
       " '135.42163944306296, 25.877387227672134',\n",
       " '141.60264825107333, 34.304830296257144',\n",
       " '152.81671044675923, 27.136112541397996']"
      ]
     },
     "execution_count": 36,
     "metadata": {},
     "output_type": "execute_result"
    }
   ],
   "source": [
    "point_base = \"{point.ra.value}, {point.dec.value}\"\n",
    "t = [point_base.format(point=point) \n",
    "     for point in corners_icrs]\n",
    "t"
   ]
  },
  {
   "cell_type": "code",
   "execution_count": 38,
   "metadata": {},
   "outputs": [
    {
     "data": {
      "text/plain": [
       "'146.27533313607782, 19.261909820533692, 135.42163944306296, 25.877387227672134, 141.60264825107333, 34.304830296257144, 152.81671044675923, 27.136112541397996'"
      ]
     },
     "execution_count": 38,
     "metadata": {},
     "output_type": "execute_result"
    }
   ],
   "source": [
    "point_list = ', '.join(t)\n",
    "point_list"
   ]
  },
  {
   "cell_type": "markdown",
   "metadata": {},
   "source": [
    "Notice the syntax for join is that it acts on the thing doing the joining and you pass it what needs to be joined"
   ]
  },
  {
   "cell_type": "markdown",
   "metadata": {},
   "source": [
    "Now we're ready to build our query but we need to remake the columns we want to return"
   ]
  },
  {
   "cell_type": "code",
   "execution_count": 39,
   "metadata": {},
   "outputs": [],
   "source": [
    "columns = 'source_id, ra, dec, pmra, pmdec, parallax, parallax_error, radial_velocity'"
   ]
  },
  {
   "cell_type": "code",
   "execution_count": 40,
   "metadata": {},
   "outputs": [],
   "source": [
    "query_base = \"\"\"SELECT {columns}\n",
    "FROM gaiadr2.gaia_source\n",
    "WHERE parallax < 1\n",
    "AND bp_rp BETWEEN -0.75 AND 2\n",
    "AND 1 = CONTAINS(POINT(ra, dec),\n",
    "                 POLYGON({point_list}))\"\"\""
   ]
  },
  {
   "cell_type": "code",
   "execution_count": 41,
   "metadata": {},
   "outputs": [],
   "source": [
    "query = query_base.format(columns=columns, point_list=point_list)"
   ]
  },
  {
   "cell_type": "code",
   "execution_count": 42,
   "metadata": {},
   "outputs": [
    {
     "name": "stdout",
     "output_type": "stream",
     "text": [
      "SELECT source_id, ra, dec, pmra, pmdec, parallax, parallax_error, radial_velocity\n",
      "FROM gaiadr2.gaia_source\n",
      "WHERE parallax < 1\n",
      "AND bp_rp BETWEEN -0.75 AND 2\n",
      "AND 1 = CONTAINS(POINT(ra, dec),\n",
      "                 POLYGON(146.27533313607782, 19.261909820533692, 135.42163944306296, 25.877387227672134, 141.60264825107333, 34.304830296257144, 152.81671044675923, 27.136112541397996))\n"
     ]
    }
   ],
   "source": [
    "print(query)"
   ]
  },
  {
   "cell_type": "code",
   "execution_count": 44,
   "metadata": {},
   "outputs": [
    {
     "name": "stdout",
     "output_type": "stream",
     "text": [
      "INFO: Query finished. [astroquery.utils.tap.core]\n",
      "<Table length=140340>\n",
      "      name       dtype    unit                              description                             n_bad \n",
      "--------------- ------- -------- ------------------------------------------------------------------ ------\n",
      "      source_id   int64          Unique source identifier (unique within a particular Data Release)      0\n",
      "             ra float64      deg                                                    Right ascension      0\n",
      "            dec float64      deg                                                        Declination      0\n",
      "           pmra float64 mas / yr                         Proper motion in right ascension direction      0\n",
      "          pmdec float64 mas / yr                             Proper motion in declination direction      0\n",
      "       parallax float64      mas                                                           Parallax      0\n",
      " parallax_error float64      mas                                         Standard error of parallax      0\n",
      "radial_velocity float64   km / s                                                    Radial velocity 139374\n",
      "Jobid: 1605581375042O\n",
      "Phase: COMPLETED\n",
      "Owner: None\n",
      "Output file: async_20201116184935.vot\n",
      "Results: None\n"
     ]
    }
   ],
   "source": [
    "job = Gaia.launch_job_async(query)\n",
    "print(job)"
   ]
  },
  {
   "cell_type": "code",
   "execution_count": 45,
   "metadata": {},
   "outputs": [
    {
     "data": {
      "text/plain": [
       "140340"
      ]
     },
     "execution_count": 45,
     "metadata": {},
     "output_type": "execute_result"
    }
   ],
   "source": [
    "results = job.get_results()\n",
    "len(results)"
   ]
  },
  {
   "cell_type": "markdown",
   "metadata": {},
   "source": [
    "This polygon selection has narrowed our results from 10 million rows (which Gaia won't even let us retrieve) to ~150k - "
   ]
  },
  {
   "cell_type": "markdown",
   "metadata": {},
   "source": [
    "# Saving Results"
   ]
  },
  {
   "cell_type": "markdown",
   "metadata": {},
   "source": [
    "* substantial but managable dataset --> save\n",
    "* can shutdown notebook and pick up where we left off\n",
    "* use astropy Tables to write a fits file"
   ]
  },
  {
   "cell_type": "code",
   "execution_count": 46,
   "metadata": {},
   "outputs": [],
   "source": [
    "filename = 'gd1_results.fits'\n",
    "results.write(filename, overwrite=True)"
   ]
  },
  {
   "cell_type": "markdown",
   "metadata": {},
   "source": [
    ".fits extension tells astropy to autoformat as fits file  \n",
    "overwrite=True automatically overwrites the file"
   ]
  },
  {
   "cell_type": "code",
   "execution_count": 48,
   "metadata": {},
   "outputs": [
    {
     "name": "stdout",
     "output_type": "stream",
     "text": [
      "-rw-r--r--  1 bostroem  staff   8.6M Nov 16 19:16 gd1_results.fits\r\n"
     ]
    }
   ],
   "source": [
    "!ls -lh gd1_results.fits\n",
    "#!dir gd1_results.fits"
   ]
  },
  {
   "cell_type": "code",
   "execution_count": null,
   "metadata": {},
   "outputs": [],
   "source": []
  }
 ],
 "metadata": {
  "kernelspec": {
   "display_name": "Python (AstronomicalData)",
   "language": "python",
   "name": "astronomicaldata"
  },
  "language_info": {
   "codemirror_mode": {
    "name": "ipython",
    "version": 3
   },
   "file_extension": ".py",
   "mimetype": "text/x-python",
   "name": "python",
   "nbconvert_exporter": "python",
   "pygments_lexer": "ipython3",
   "version": "3.8.6"
  }
 },
 "nbformat": 4,
 "nbformat_minor": 4
}
