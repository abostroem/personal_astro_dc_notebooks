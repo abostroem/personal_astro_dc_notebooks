{
 "cells": [
  {
   "cell_type": "code",
   "execution_count": 1,
   "metadata": {},
   "outputs": [],
   "source": [
    "import pandas as pd"
   ]
  },
  {
   "cell_type": "markdown",
   "metadata": {},
   "source": [
    "# Read in data"
   ]
  },
  {
   "cell_type": "code",
   "execution_count": 2,
   "metadata": {},
   "outputs": [],
   "source": [
    "filename = 'gd1_candidates.hdf5'\n",
    "candidate_df = pd.read_hdf(filename, 'candidate_df')"
   ]
  },
  {
   "cell_type": "markdown",
   "metadata": {},
   "source": [
    "Make HR diagram to identify coeval and same metallicity stars (assume these belonged to a globular cluster)"
   ]
  },
  {
   "cell_type": "markdown",
   "metadata": {},
   "source": [
    "We have a table of Gaia data for each object that Gaia identified and a table of Pan-STARRS data. "
   ]
  },
  {
   "cell_type": "markdown",
   "metadata": {},
   "source": [
    "JOIN: match records from one table with records from another table using a key (common information)"
   ]
  },
  {
   "cell_type": "markdown",
   "metadata": {},
   "source": [
    "# Preparing a table for uploading"
   ]
  },
  {
   "cell_type": "code",
   "execution_count": 4,
   "metadata": {},
   "outputs": [
    {
     "data": {
      "text/plain": [
       "astropy.table.table.Table"
      ]
     },
     "execution_count": 4,
     "metadata": {},
     "output_type": "execute_result"
    }
   ],
   "source": [
    "from astropy.table import Table\n",
    "candidate_table = Table.from_pandas(candidate_df)\n",
    "type(candidate_table)"
   ]
  },
  {
   "cell_type": "code",
   "execution_count": 5,
   "metadata": {},
   "outputs": [],
   "source": [
    "table_id = candidate_table[['source_id']]\n",
    "table_id.write('candidate_df.xml', format='votable', overwrite=True)"
   ]
  },
  {
   "cell_type": "markdown",
   "metadata": {},
   "source": [
    "Note: we wrote only source_id b/c that's the only one we need, easier to transmit"
   ]
  },
  {
   "cell_type": "code",
   "execution_count": 7,
   "metadata": {},
   "outputs": [
    {
     "name": "stdout",
     "output_type": "stream",
     "text": [
      "<?xml version=\"1.0\" encoding=\"utf-8\"?>\r\n",
      "<!-- Produced with astropy.io.votable version 4.1\r\n",
      "     http://www.astropy.org/ -->\r\n",
      "<VOTABLE version=\"1.4\" xmlns=\"http://www.ivoa.net/xml/VOTable/v1.4\" xmlns:xsi=\"http://www.w3.org/2001/XMLSchema-instance\" xsi:noNamespaceSchemaLocation=\"http://www.ivoa.net/xml/VOTable/v1.4\">\r\n",
      " <RESOURCE type=\"results\">\r\n",
      "  <TABLE>\r\n",
      "   <FIELD ID=\"source_id\" datatype=\"long\" name=\"source_id\"/>\r\n",
      "   <DATA>\r\n",
      "    <TABLEDATA>\r\n",
      "     <TR>\r\n"
     ]
    }
   ],
   "source": [
    "!head candidate_df.xml"
   ]
  },
  {
   "cell_type": "markdown",
   "metadata": {},
   "source": [
    "Note: tells you the schema and where to find documentation --> self documenting"
   ]
  },
  {
   "cell_type": "code",
   "execution_count": 8,
   "metadata": {},
   "outputs": [
    {
     "name": "stdout",
     "output_type": "stream",
     "text": [
      "-rw-r--r--  1 bostroem  staff   395K Nov 18 16:53 candidate_df.xml\r\n"
     ]
    }
   ],
   "source": [
    "!ls -lh candidate_df.xml"
   ]
  },
  {
   "cell_type": "markdown",
   "metadata": {},
   "source": [
    "**Exercise 1**: There's a gotcha here we want to warn you about. Why do you think we used double brakets to specify the column we wanted? What happens if you use single brakets?\n",
    "\n",
    "RUN:"
   ]
  },
  {
   "cell_type": "code",
   "execution_count": 9,
   "metadata": {},
   "outputs": [
    {
     "data": {
      "text/plain": [
       "astropy.table.table.Table"
      ]
     },
     "execution_count": 9,
     "metadata": {},
     "output_type": "execute_result"
    }
   ],
   "source": [
    "table = candidate_table[['source_id']]\n",
    "type(table)"
   ]
  },
  {
   "cell_type": "code",
   "execution_count": 10,
   "metadata": {},
   "outputs": [
    {
     "data": {
      "text/plain": [
       "astropy.table.column.Column"
      ]
     },
     "execution_count": 10,
     "metadata": {},
     "output_type": "execute_result"
    }
   ],
   "source": [
    "column = candidate_table['source_id']\n",
    "type(column)"
   ]
  },
  {
   "cell_type": "markdown",
   "metadata": {},
   "source": [
    "Double brakets gives you a table rather than a column"
   ]
  },
  {
   "cell_type": "markdown",
   "metadata": {},
   "source": [
    "# Uploading a table\n",
    "\n",
    "upload table and run query all with launch_job_async"
   ]
  },
  {
   "cell_type": "code",
   "execution_count": 12,
   "metadata": {},
   "outputs": [
    {
     "name": "stdout",
     "output_type": "stream",
     "text": [
      "Created TAP+ (v1.2.1) - Connection:\n",
      "\tHost: gea.esac.esa.int\n",
      "\tUse HTTPS: True\n",
      "\tPort: 443\n",
      "\tSSL Port: 443\n",
      "Created TAP+ (v1.2.1) - Connection:\n",
      "\tHost: geadata.esac.esa.int\n",
      "\tUse HTTPS: True\n",
      "\tPort: 443\n",
      "\tSSL Port: 443\n"
     ]
    }
   ],
   "source": [
    "from astroquery.gaia import Gaia"
   ]
  },
  {
   "cell_type": "markdown",
   "metadata": {},
   "source": [
    "simple query: download all rows and column from uploaded table tap_upload.candidate_df"
   ]
  },
  {
   "cell_type": "code",
   "execution_count": 20,
   "metadata": {},
   "outputs": [],
   "source": [
    "query = \"\"\"SELECT *\n",
    "FROM tap_upload.candidate_df as best\"\"\""
   ]
  },
  {
   "cell_type": "markdown",
   "metadata": {},
   "source": [
    "note the use of alias `as best`"
   ]
  },
  {
   "cell_type": "code",
   "execution_count": 21,
   "metadata": {},
   "outputs": [
    {
     "name": "stdout",
     "output_type": "stream",
     "text": [
      "INFO: Query finished. [astroquery.utils.tap.core]\n"
     ]
    }
   ],
   "source": [
    "from astroquery.gaia import Gaia\n",
    "\n",
    "job = Gaia.launch_job_async(query=query,\n",
    "                           upload_resource='candidate_df.xml', #what we're uploading\n",
    "                           upload_table_name = 'candidate_df') #what we want to call it"
   ]
  },
  {
   "cell_type": "code",
   "execution_count": 16,
   "metadata": {},
   "outputs": [
    {
     "data": {
      "text/html": [
       "<i>Table length=7346</i>\n",
       "<table id=\"table140335473208288\" class=\"table-striped table-bordered table-condensed\">\n",
       "<thead><tr><th>source_id</th></tr></thead>\n",
       "<thead><tr><th>int64</th></tr></thead>\n",
       "<tr><td>635559124339440000</td></tr>\n",
       "<tr><td>635860218726658176</td></tr>\n",
       "<tr><td>635674126383965568</td></tr>\n",
       "<tr><td>635535454774983040</td></tr>\n",
       "<tr><td>635497276810313600</td></tr>\n",
       "<tr><td>635614168640132864</td></tr>\n",
       "<tr><td>635821843194387840</td></tr>\n",
       "<tr><td>635551706931167104</td></tr>\n",
       "<tr><td>635518889086133376</td></tr>\n",
       "<tr><td>635580294233854464</td></tr>\n",
       "<tr><td>...</td></tr>\n",
       "<tr><td>612282738058264960</td></tr>\n",
       "<tr><td>612485911486166656</td></tr>\n",
       "<tr><td>612386332668697600</td></tr>\n",
       "<tr><td>612296172717818624</td></tr>\n",
       "<tr><td>612250375480101760</td></tr>\n",
       "<tr><td>612394926899159168</td></tr>\n",
       "<tr><td>612288854091187712</td></tr>\n",
       "<tr><td>612428870024913152</td></tr>\n",
       "<tr><td>612256418500423168</td></tr>\n",
       "<tr><td>612429144902815104</td></tr>\n",
       "</table>"
      ],
      "text/plain": [
       "<Table length=7346>\n",
       "    source_id     \n",
       "      int64       \n",
       "------------------\n",
       "635559124339440000\n",
       "635860218726658176\n",
       "635674126383965568\n",
       "635535454774983040\n",
       "635497276810313600\n",
       "635614168640132864\n",
       "635821843194387840\n",
       "635551706931167104\n",
       "635518889086133376\n",
       "635580294233854464\n",
       "               ...\n",
       "612282738058264960\n",
       "612485911486166656\n",
       "612386332668697600\n",
       "612296172717818624\n",
       "612250375480101760\n",
       "612394926899159168\n",
       "612288854091187712\n",
       "612428870024913152\n",
       "612256418500423168\n",
       "612429144902815104"
      ]
     },
     "execution_count": 16,
     "metadata": {},
     "output_type": "execute_result"
    }
   ],
   "source": [
    "results = job.get_results()\n",
    "results\n"
   ]
  },
  {
   "cell_type": "markdown",
   "metadata": {},
   "source": [
    "### Check that they are the same"
   ]
  },
  {
   "cell_type": "code",
   "execution_count": 18,
   "metadata": {},
   "outputs": [
    {
     "data": {
      "text/plain": [
       "(7346, 7346)"
      ]
     },
     "execution_count": 18,
     "metadata": {},
     "output_type": "execute_result"
    }
   ],
   "source": [
    "len(candidate_df), len(results)"
   ]
  },
  {
   "cell_type": "code",
   "execution_count": 19,
   "metadata": {},
   "outputs": [
    {
     "data": {
      "text/plain": [
       "True"
      ]
     },
     "execution_count": 19,
     "metadata": {},
     "output_type": "execute_result"
    }
   ],
   "source": [
    "set(candidate_table['source_id']) == set(results['source_id'])"
   ]
  },
  {
   "cell_type": "markdown",
   "metadata": {},
   "source": [
    "# Joining with an uploaded table"
   ]
  },
  {
   "cell_type": "code",
   "execution_count": 28,
   "metadata": {},
   "outputs": [],
   "source": [
    "query1 = \"\"\"SELECT *\n",
    "FROM gaiadr2.panstarrs1_best_neighbour AS best\n",
    "JOIN tap_upload.candidate_df as candidate_df\n",
    "ON best.source_id = candidate_df.source_id\"\"\""
   ]
  },
  {
   "cell_type": "markdown",
   "metadata": {},
   "source": [
    "Break down each clause"
   ]
  },
  {
   "cell_type": "code",
   "execution_count": 29,
   "metadata": {},
   "outputs": [
    {
     "name": "stdout",
     "output_type": "stream",
     "text": [
      "INFO: Query finished. [astroquery.utils.tap.core]\n"
     ]
    }
   ],
   "source": [
    "job1 = Gaia.launch_job_async(query=query1,\n",
    "                            upload_resource='candidate_df.xml',\n",
    "                            upload_table_name='candidate_df')"
   ]
  },
  {
   "cell_type": "code",
   "execution_count": 40,
   "metadata": {},
   "outputs": [
    {
     "data": {
      "text/plain": [
       "['source_id',\n",
       " 'original_ext_source_id',\n",
       " 'angular_distance',\n",
       " 'number_of_neighbours',\n",
       " 'number_of_mates',\n",
       " 'best_neighbour_multiplicity',\n",
       " 'gaia_astrometric_params',\n",
       " 'source_id_2']"
      ]
     },
     "execution_count": 40,
     "metadata": {},
     "output_type": "execute_result"
    }
   ],
   "source": [
    "results1 = job1.get_results()\n",
    "results1.colnames"
   ]
  },
  {
   "cell_type": "markdown",
   "metadata": {},
   "source": [
    "Has all columns in panstarrs1_best_neighbour and single column from uploaded table (source_id).\n",
    "source_id occures twice --> one labeled _2 automatically\n",
    "\n",
    "original_ext_source_id = obj_id in PAN-STARRS table"
   ]
  },
  {
   "cell_type": "code",
   "execution_count": 32,
   "metadata": {},
   "outputs": [
    {
     "data": {
      "text/html": [
       "<i>Table length=5</i>\n",
       "<table id=\"table140335514797920\" class=\"table-striped table-bordered table-condensed\">\n",
       "<thead><tr><th>source_id</th><th>original_ext_source_id</th><th>angular_distance</th><th>number_of_neighbours</th><th>number_of_mates</th><th>best_neighbour_multiplicity</th><th>gaia_astrometric_params</th><th>source_id_2</th></tr></thead>\n",
       "<thead><tr><th></th><th></th><th>arcsec</th><th></th><th></th><th></th><th></th><th></th></tr></thead>\n",
       "<thead><tr><th>int64</th><th>int64</th><th>float64</th><th>int32</th><th>int16</th><th>int16</th><th>int16</th><th>int64</th></tr></thead>\n",
       "<tr><td>635860218726658176</td><td>130911385187671349</td><td>0.053667035895467084</td><td>1</td><td>0</td><td>1</td><td>5</td><td>635860218726658176</td></tr>\n",
       "<tr><td>635674126383965568</td><td>130831388428488720</td><td>0.038810268141577516</td><td>1</td><td>0</td><td>1</td><td>5</td><td>635674126383965568</td></tr>\n",
       "<tr><td>635535454774983040</td><td>130631378377657369</td><td>0.034323028828991076</td><td>1</td><td>0</td><td>1</td><td>5</td><td>635535454774983040</td></tr>\n",
       "<tr><td>635497276810313600</td><td>130811380445631930</td><td>0.04720255413250006</td><td>1</td><td>0</td><td>1</td><td>5</td><td>635497276810313600</td></tr>\n",
       "<tr><td>635614168640132864</td><td>130571395922140135</td><td>0.020304189709964143</td><td>1</td><td>0</td><td>1</td><td>5</td><td>635614168640132864</td></tr>\n",
       "</table>"
      ],
      "text/plain": [
       "<Table length=5>\n",
       "    source_id      original_ext_source_id ...    source_id_2    \n",
       "                                          ...                   \n",
       "      int64                int64          ...       int64       \n",
       "------------------ ---------------------- ... ------------------\n",
       "635860218726658176     130911385187671349 ... 635860218726658176\n",
       "635674126383965568     130831388428488720 ... 635674126383965568\n",
       "635535454774983040     130631378377657369 ... 635535454774983040\n",
       "635497276810313600     130811380445631930 ... 635497276810313600\n",
       "635614168640132864     130571395922140135 ... 635614168640132864"
      ]
     },
     "execution_count": 32,
     "metadata": {},
     "output_type": "execute_result"
    }
   ],
   "source": [
    "results1[0:5]"
   ]
  },
  {
   "cell_type": "code",
   "execution_count": 33,
   "metadata": {},
   "outputs": [
    {
     "data": {
      "text/plain": [
       "3724"
      ]
     },
     "execution_count": 33,
     "metadata": {},
     "output_type": "execute_result"
    }
   ],
   "source": [
    "len(results1)"
   ]
  },
  {
   "cell_type": "code",
   "execution_count": 34,
   "metadata": {},
   "outputs": [
    {
     "data": {
      "text/plain": [
       "7346"
      ]
     },
     "execution_count": 34,
     "metadata": {},
     "output_type": "execute_result"
    }
   ],
   "source": [
    "len(candidate_df)"
   ]
  },
  {
   "cell_type": "markdown",
   "metadata": {},
   "source": [
    "Not all stars in candidate_df have a match in PanSTARRS"
   ]
  },
  {
   "cell_type": "markdown",
   "metadata": {},
   "source": [
    "Check that stars in Gaia catalog only have one match in PanSTARRS (check that `best_neighbour_multiplicity` is 1) with histogram"
   ]
  },
  {
   "cell_type": "code",
   "execution_count": 36,
   "metadata": {},
   "outputs": [],
   "source": [
    "import pandas as pd"
   ]
  },
  {
   "cell_type": "markdown",
   "metadata": {},
   "source": [
    "Count the number of times there are different multiplicities"
   ]
  },
  {
   "cell_type": "code",
   "execution_count": 38,
   "metadata": {},
   "outputs": [
    {
     "data": {
      "text/plain": [
       "1    3724\n",
       "dtype: int64"
      ]
     },
     "execution_count": 38,
     "metadata": {},
     "output_type": "execute_result"
    }
   ],
   "source": [
    "nm = pd.Series(results1['best_neighbour_multiplicity'])\n",
    "nm.value_counts()"
   ]
  },
  {
   "cell_type": "markdown",
   "metadata": {},
   "source": [
    "# Getting the Photometry Data"
   ]
  },
  {
   "cell_type": "markdown",
   "metadata": {},
   "source": [
    "**Exercise 2**\n",
    "1. Make an Astropy Table that contains source_id and original_ext_source_id\n",
    "2. write new table to VOTable called external.xml\n",
    "3. write query to join uploaded table with gaiadr2.panstarrs1_original_valid\n",
    "    * Incremental approach:\n",
    "        - download all columns from upload\n",
    "        - download TOP 10 rows from join\n",
    "        - download full join\n",
    "4. Run query\n",
    "5. Click green check yes on Zoom\n",
    "\n",
    "**Bonus**: modify query to select only the columns we need: `source_id` (from upload table), `g_mean_psf_mag` and `i_mean_psf_mag` (from `gaiadr2.panstarrs1_original_valid`)\n",
    "\n",
    "**Challenge:** Write both joins in a single query"
   ]
  },
  {
   "cell_type": "code",
   "execution_count": 42,
   "metadata": {},
   "outputs": [],
   "source": [
    "pan_id_table = results1[['source_id', 'original_ext_source_id']]\n",
    "type(pan_id_table)\n",
    "\n"
   ]
  },
  {
   "cell_type": "code",
   "execution_count": 47,
   "metadata": {},
   "outputs": [],
   "source": [
    "filename = 'external.xml'\n",
    "pan_id_table.write(filename, format='votable', overwrite=True)"
   ]
  },
  {
   "cell_type": "code",
   "execution_count": 46,
   "metadata": {},
   "outputs": [
    {
     "name": "stdout",
     "output_type": "stream",
     "text": [
      "<?xml version=\"1.0\" encoding=\"utf-8\"?>\r\n",
      "<!-- Produced with astropy.io.votable version 4.1\r\n",
      "     http://www.astropy.org/ -->\r\n",
      "<VOTABLE version=\"1.4\" xmlns=\"http://www.ivoa.net/xml/VOTable/v1.4\" xmlns:xsi=\"http://www.w3.org/2001/XMLSchema-instance\" xsi:noNamespaceSchemaLocation=\"http://www.ivoa.net/xml/VOTable/v1.4\">\r\n",
      " <RESOURCE type=\"results\">\r\n",
      "  <TABLE>\r\n",
      "   <FIELD ID=\"source_id\" datatype=\"long\" name=\"source_id\" ucd=\"meta.id;meta.main\">\r\n",
      "    <DESCRIPTION>\r\n",
      "     Unique Gaia source identifier\r\n",
      "    </DESCRIPTION>\r\n"
     ]
    }
   ],
   "source": [
    "!head panstarrs_id.xml"
   ]
  },
  {
   "cell_type": "code",
   "execution_count": 57,
   "metadata": {},
   "outputs": [],
   "source": [
    "query_phot0 = \"\"\"SELECT *\n",
    "FROM tap_upload.external\"\"\""
   ]
  },
  {
   "cell_type": "code",
   "execution_count": 64,
   "metadata": {},
   "outputs": [
    {
     "name": "stdout",
     "output_type": "stream",
     "text": [
      "INFO: Query finished. [astroquery.utils.tap.core]\n"
     ]
    }
   ],
   "source": [
    "job_phot0 = Gaia.launch_job_async(query_phot0,\n",
    "                           upload_resource='external.xml',\n",
    "                          upload_table_name='external')"
   ]
  },
  {
   "cell_type": "code",
   "execution_count": 65,
   "metadata": {},
   "outputs": [
    {
     "name": "stdout",
     "output_type": "stream",
     "text": [
      "3724 3724\n"
     ]
    }
   ],
   "source": [
    "results_phot0 = job_phot0.get_results()\n",
    "print(len(results_phot0), len(results1))"
   ]
  },
  {
   "cell_type": "code",
   "execution_count": 84,
   "metadata": {},
   "outputs": [],
   "source": [
    "query_phot10 = \"\"\"SELECT \n",
    "TOP 10 * \n",
    "FROM gaiadr2.panstarrs1_original_valid as ps \n",
    "JOIN tap_upload.external \n",
    "ON ps.obj_id = external.original_ext_source_id\"\"\""
   ]
  },
  {
   "cell_type": "code",
   "execution_count": 85,
   "metadata": {},
   "outputs": [],
   "source": [
    "job_phot10 = Gaia.launch_job(query_phot10, \n",
    "                          upload_resource='external.xml',\n",
    "                          upload_table_name='external')"
   ]
  },
  {
   "cell_type": "code",
   "execution_count": 86,
   "metadata": {},
   "outputs": [
    {
     "name": "stdout",
     "output_type": "stream",
     "text": [
      "         obj_name                obj_id       ... original_ext_source_id\n",
      "                                              ...                       \n",
      "-------------------------- ------------------ ... ----------------------\n",
      "PSO J091404.504+190532.466 130911385187671349 ...     130911385187671349\n",
      "PSO J091522.284+190154.572 130831388428488720 ...     130831388428488720\n",
      "PSO J091121.063+185150.535 130631378377657369 ...     130631378377657369\n",
      "PSO J091210.694+190034.188 130811380445631930 ...     130811380445631930\n",
      "PSO J091822.130+184828.839 130571395922140135 ...     130571395922140135\n",
      "PSO J091650.193+183726.923 130341392091279513 ...     130341392091279513\n",
      "PSO J091943.991+191004.870 131001399333502136 ...     131001399333502136\n",
      "PSO J091927.711+200040.863 132011398654934147 ...     132011398654934147\n",
      "PSO J091654.869+184109.420 130421392285893623 ...     130421392285893623\n",
      "PSO J091844.711+185252.093 130651396862917914 ...     130651396862917914\n"
     ]
    }
   ],
   "source": [
    "results_phot10 = job_phot10.get_results()\n",
    "print(results_phot10)"
   ]
  },
  {
   "cell_type": "code",
   "execution_count": 87,
   "metadata": {},
   "outputs": [],
   "source": [
    "query_phot = \"\"\"SELECT \n",
    "*\n",
    "FROM gaiadr2.panstarrs1_original_valid as ps \n",
    "JOIN tap_upload.external \n",
    "ON ps.obj_id = external.original_ext_source_id\"\"\""
   ]
  },
  {
   "cell_type": "code",
   "execution_count": 88,
   "metadata": {},
   "outputs": [
    {
     "name": "stdout",
     "output_type": "stream",
     "text": [
      "INFO: Query finished. [astroquery.utils.tap.core]\n"
     ]
    }
   ],
   "source": [
    "job_phot = Gaia.launch_job_async(query_phot, \n",
    "                          upload_resource='external.xml',\n",
    "                          upload_table_name='external')"
   ]
  },
  {
   "cell_type": "code",
   "execution_count": 89,
   "metadata": {},
   "outputs": [],
   "source": [
    "results_phot = job_phot.get_results()"
   ]
  },
  {
   "cell_type": "code",
   "execution_count": 90,
   "metadata": {},
   "outputs": [
    {
     "name": "stdout",
     "output_type": "stream",
     "text": [
      "3724 3724\n"
     ]
    }
   ],
   "source": [
    "print(len(results_phot), len(results1))"
   ]
  },
  {
   "cell_type": "code",
   "execution_count": 94,
   "metadata": {},
   "outputs": [],
   "source": [
    "query2 = \"\"\"SELECT \n",
    "external.source_id, ps.g_mean_psf_mag, ps.i_mean_psf_mag\n",
    "FROM gaiadr2.panstarrs1_original_valid as ps \n",
    "JOIN tap_upload.external \n",
    "ON ps.obj_id = external.original_ext_source_id\"\"\""
   ]
  },
  {
   "cell_type": "code",
   "execution_count": 95,
   "metadata": {},
   "outputs": [
    {
     "name": "stdout",
     "output_type": "stream",
     "text": [
      "INFO: Query finished. [astroquery.utils.tap.core]\n"
     ]
    }
   ],
   "source": [
    "job2 = Gaia.launch_job_async(query2, \n",
    "                          upload_resource='external.xml',\n",
    "                          upload_table_name='external')"
   ]
  },
  {
   "cell_type": "code",
   "execution_count": 97,
   "metadata": {},
   "outputs": [
    {
     "data": {
      "text/html": [
       "<i>Table length=3724</i>\n",
       "<table id=\"table140335503714000\" class=\"table-striped table-bordered table-condensed\">\n",
       "<thead><tr><th>source_id</th><th>g_mean_psf_mag</th><th>i_mean_psf_mag</th></tr></thead>\n",
       "<thead><tr><th></th><th></th><th>mag</th></tr></thead>\n",
       "<thead><tr><th>int64</th><th>float64</th><th>float64</th></tr></thead>\n",
       "<tr><td>635860218726658176</td><td>17.8978004455566</td><td>17.5174007415771</td></tr>\n",
       "<tr><td>635674126383965568</td><td>19.2873001098633</td><td>17.6781005859375</td></tr>\n",
       "<tr><td>635535454774983040</td><td>16.9237995147705</td><td>16.478099822998</td></tr>\n",
       "<tr><td>635497276810313600</td><td>19.9242000579834</td><td>18.3339996337891</td></tr>\n",
       "<tr><td>635614168640132864</td><td>16.1515998840332</td><td>14.6662998199463</td></tr>\n",
       "<tr><td>635598607974369792</td><td>16.5223999023438</td><td>16.1375007629395</td></tr>\n",
       "<tr><td>635737661835496576</td><td>14.5032997131348</td><td>13.9849004745483</td></tr>\n",
       "<tr><td>635850945892748672</td><td>16.5174999237061</td><td>16.0450000762939</td></tr>\n",
       "<tr><td>635600532119713664</td><td>20.4505996704102</td><td>19.5177001953125</td></tr>\n",
       "<tr><td>...</td><td>...</td><td>...</td></tr>\n",
       "<tr><td>612241781249124608</td><td>20.2343997955322</td><td>18.6518001556396</td></tr>\n",
       "<tr><td>612332147361443072</td><td>21.3848991394043</td><td>20.3076000213623</td></tr>\n",
       "<tr><td>612426744016802432</td><td>17.8281002044678</td><td>17.4281005859375</td></tr>\n",
       "<tr><td>612331739340341760</td><td>21.8656997680664</td><td>19.5223007202148</td></tr>\n",
       "<tr><td>612282738058264960</td><td>22.5151996612549</td><td>19.9743995666504</td></tr>\n",
       "<tr><td>612386332668697600</td><td>19.3792991638184</td><td>17.9923000335693</td></tr>\n",
       "<tr><td>612296172717818624</td><td>17.4944000244141</td><td>16.926700592041</td></tr>\n",
       "<tr><td>612250375480101760</td><td>15.3330001831055</td><td>14.6280002593994</td></tr>\n",
       "<tr><td>612394926899159168</td><td>16.4414005279541</td><td>15.8212003707886</td></tr>\n",
       "<tr><td>612256418500423168</td><td>20.8715991973877</td><td>19.9612007141113</td></tr>\n",
       "</table>"
      ],
      "text/plain": [
       "<Table length=3724>\n",
       "    source_id       g_mean_psf_mag   i_mean_psf_mag \n",
       "                                          mag       \n",
       "      int64            float64          float64     \n",
       "------------------ ---------------- ----------------\n",
       "635860218726658176 17.8978004455566 17.5174007415771\n",
       "635674126383965568 19.2873001098633 17.6781005859375\n",
       "635535454774983040 16.9237995147705  16.478099822998\n",
       "635497276810313600 19.9242000579834 18.3339996337891\n",
       "635614168640132864 16.1515998840332 14.6662998199463\n",
       "635598607974369792 16.5223999023438 16.1375007629395\n",
       "635737661835496576 14.5032997131348 13.9849004745483\n",
       "635850945892748672 16.5174999237061 16.0450000762939\n",
       "635600532119713664 20.4505996704102 19.5177001953125\n",
       "               ...              ...              ...\n",
       "612241781249124608 20.2343997955322 18.6518001556396\n",
       "612332147361443072 21.3848991394043 20.3076000213623\n",
       "612426744016802432 17.8281002044678 17.4281005859375\n",
       "612331739340341760 21.8656997680664 19.5223007202148\n",
       "612282738058264960 22.5151996612549 19.9743995666504\n",
       "612386332668697600 19.3792991638184 17.9923000335693\n",
       "612296172717818624 17.4944000244141  16.926700592041\n",
       "612250375480101760 15.3330001831055 14.6280002593994\n",
       "612394926899159168 16.4414005279541 15.8212003707886\n",
       "612256418500423168 20.8715991973877 19.9612007141113"
      ]
     },
     "execution_count": 97,
     "metadata": {},
     "output_type": "execute_result"
    }
   ],
   "source": [
    "results2 = job2.get_results()\n",
    "results2"
   ]
  },
  {
   "cell_type": "markdown",
   "metadata": {},
   "source": [
    "# Write the Data"
   ]
  },
  {
   "cell_type": "markdown",
   "metadata": {},
   "source": [
    "astropy table --> store as fits"
   ]
  },
  {
   "cell_type": "code",
   "execution_count": 98,
   "metadata": {},
   "outputs": [],
   "source": [
    "filename = 'gd1_photo.fits'\n",
    "results2.write(filename, overwrite=True)"
   ]
  },
  {
   "cell_type": "code",
   "execution_count": 100,
   "metadata": {},
   "outputs": [
    {
     "name": "stdout",
     "output_type": "stream",
     "text": [
      "-rw-r--r--  1 bostroem  staff    96K Nov 18 17:59 gd1_photo.fits\r\n"
     ]
    }
   ],
   "source": [
    "!ls -lh gd1_photo.fits"
   ]
  },
  {
   "cell_type": "code",
   "execution_count": null,
   "metadata": {},
   "outputs": [],
   "source": []
  }
 ],
 "metadata": {
  "kernelspec": {
   "display_name": "Python (AstronomicalData)",
   "language": "python",
   "name": "astronomicaldata"
  },
  "language_info": {
   "codemirror_mode": {
    "name": "ipython",
    "version": 3
   },
   "file_extension": ".py",
   "mimetype": "text/x-python",
   "name": "python",
   "nbconvert_exporter": "python",
   "pygments_lexer": "ipython3",
   "version": "3.8.6"
  }
 },
 "nbformat": 4,
 "nbformat_minor": 4
}
